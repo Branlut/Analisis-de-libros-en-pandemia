{
 "cells": [
  {
   "cell_type": "markdown",
   "metadata": {},
   "source": [
    "# Objetivos \n",
    "El coranavirus condiciono a todos a aislarse de los demas lo que conllevo a dejar de hacer actividades al aire libre, esto conllevo a centrarse en actividades que se pudieran realizar sin la necesidad de depender de alguien que este fisicamente presente, gracias a esto las startups vieron una opurtunidad con los amantes de los libros, conbinando con esto con enfoque tecnologico se apresuron a realizar apliciones para este nicho.\n",
    "\n",
    "Nos han dado una base de datos que contempla los datos de unos de estas aplicaciones de la cual se no pidio analizarla para crear una propuesta de valor diferencial"
   ]
  },
  {
   "cell_type": "code",
   "execution_count": 1,
   "metadata": {},
   "outputs": [],
   "source": [
    "\n",
    "import pandas as pd\n",
    "from sqlalchemy import create_engine\n",
    "from datetime import date"
   ]
  },
  {
   "cell_type": "markdown",
   "metadata": {},
   "source": [
    "## Conexion a BD"
   ]
  },
  {
   "cell_type": "code",
   "execution_count": 2,
   "metadata": {},
   "outputs": [],
   "source": [
    "db_config = { 'user': 'practicum_student', # username\n",
    "         'pwd': 'QnmDH8Sc2TQLvy2G3Vvh7', # password\n",
    "         'host': 'yp-trainers-practicum.cluster-czs0gxyx2d8w.us-east-1.rds.amazonaws.com',\n",
    "         'port': 5432, # connection port\n",
    "         'db': 'data-analyst-final-project-db' # the name of the database\n",
    "     }\n",
    "connection_string = 'postgresql://{}:{}@{}:{}/{}'.format(db_config['user'],db_config['pwd'],db_config['host'],db_config['port'],db_config['db'])\n",
    "    \n",
    "engine = create_engine(connection_string, connect_args={'sslmode':'require'})\n"
   ]
  },
  {
   "cell_type": "code",
   "execution_count": 3,
   "metadata": {},
   "outputs": [],
   "source": [
    "def query_result(query):\n",
    "\n",
    "    db_config = { 'user': 'practicum_student', # username\n",
    "         'pwd': 'QnmDH8Sc2TQLvy2G3Vvh7', # password\n",
    "         'host': 'yp-trainers-practicum.cluster-czs0gxyx2d8w.us-east-1.rds.amazonaws.com',\n",
    "         'port': 5432, # connection port\n",
    "         'db': 'data-analyst-final-project-db' # the name of the database\n",
    "     }\n",
    "    connection_string = 'postgresql://{}:{}@{}:{}/{}'.format(db_config['user'],db_config['pwd'],db_config['host'],db_config['port'],\n",
    "                                                         db_config['db'])\n",
    "    \n",
    "    engine = create_engine(connection_string, connect_args={'sslmode':'require'})\n",
    "    return pd.io.sql.read_sql(query, con = engine)"
   ]
  },
  {
   "cell_type": "markdown",
   "metadata": {},
   "source": [
    "## Estudio de tablas"
   ]
  },
  {
   "cell_type": "markdown",
   "metadata": {},
   "source": [
    "### Books"
   ]
  },
  {
   "cell_type": "code",
   "execution_count": 4,
   "metadata": {},
   "outputs": [
    {
     "data": {
      "text/html": [
       "<div>\n",
       "<style scoped>\n",
       "    .dataframe tbody tr th:only-of-type {\n",
       "        vertical-align: middle;\n",
       "    }\n",
       "\n",
       "    .dataframe tbody tr th {\n",
       "        vertical-align: top;\n",
       "    }\n",
       "\n",
       "    .dataframe thead th {\n",
       "        text-align: right;\n",
       "    }\n",
       "</style>\n",
       "<table border=\"1\" class=\"dataframe\">\n",
       "  <thead>\n",
       "    <tr style=\"text-align: right;\">\n",
       "      <th></th>\n",
       "      <th>book_id</th>\n",
       "      <th>author_id</th>\n",
       "      <th>title</th>\n",
       "      <th>num_pages</th>\n",
       "      <th>publication_date</th>\n",
       "      <th>publisher_id</th>\n",
       "    </tr>\n",
       "  </thead>\n",
       "  <tbody>\n",
       "    <tr>\n",
       "      <th>0</th>\n",
       "      <td>1</td>\n",
       "      <td>546</td>\n",
       "      <td>'Salem's Lot</td>\n",
       "      <td>594</td>\n",
       "      <td>2005-11-01</td>\n",
       "      <td>93</td>\n",
       "    </tr>\n",
       "    <tr>\n",
       "      <th>1</th>\n",
       "      <td>2</td>\n",
       "      <td>465</td>\n",
       "      <td>1 000 Places to See Before You Die</td>\n",
       "      <td>992</td>\n",
       "      <td>2003-05-22</td>\n",
       "      <td>336</td>\n",
       "    </tr>\n",
       "    <tr>\n",
       "      <th>2</th>\n",
       "      <td>3</td>\n",
       "      <td>407</td>\n",
       "      <td>13 Little Blue Envelopes (Little Blue Envelope...</td>\n",
       "      <td>322</td>\n",
       "      <td>2010-12-21</td>\n",
       "      <td>135</td>\n",
       "    </tr>\n",
       "    <tr>\n",
       "      <th>3</th>\n",
       "      <td>4</td>\n",
       "      <td>82</td>\n",
       "      <td>1491: New Revelations of the Americas Before C...</td>\n",
       "      <td>541</td>\n",
       "      <td>2006-10-10</td>\n",
       "      <td>309</td>\n",
       "    </tr>\n",
       "    <tr>\n",
       "      <th>4</th>\n",
       "      <td>5</td>\n",
       "      <td>125</td>\n",
       "      <td>1776</td>\n",
       "      <td>386</td>\n",
       "      <td>2006-07-04</td>\n",
       "      <td>268</td>\n",
       "    </tr>\n",
       "  </tbody>\n",
       "</table>\n",
       "</div>"
      ],
      "text/plain": [
       "   book_id  author_id                                              title  \\\n",
       "0        1        546                                       'Salem's Lot   \n",
       "1        2        465                 1 000 Places to See Before You Die   \n",
       "2        3        407  13 Little Blue Envelopes (Little Blue Envelope...   \n",
       "3        4         82  1491: New Revelations of the Americas Before C...   \n",
       "4        5        125                                               1776   \n",
       "\n",
       "   num_pages publication_date  publisher_id  \n",
       "0        594       2005-11-01            93  \n",
       "1        992       2003-05-22           336  \n",
       "2        322       2010-12-21           135  \n",
       "3        541       2006-10-10           309  \n",
       "4        386       2006-07-04           268  "
      ]
     },
     "execution_count": 4,
     "metadata": {},
     "output_type": "execute_result"
    }
   ],
   "source": [
    "query_result('SELECT * FROM books LIMIT 5')"
   ]
  },
  {
   "cell_type": "code",
   "execution_count": 5,
   "metadata": {},
   "outputs": [
    {
     "data": {
      "text/html": [
       "<div>\n",
       "<style scoped>\n",
       "    .dataframe tbody tr th:only-of-type {\n",
       "        vertical-align: middle;\n",
       "    }\n",
       "\n",
       "    .dataframe tbody tr th {\n",
       "        vertical-align: top;\n",
       "    }\n",
       "\n",
       "    .dataframe thead th {\n",
       "        text-align: right;\n",
       "    }\n",
       "</style>\n",
       "<table border=\"1\" class=\"dataframe\">\n",
       "  <thead>\n",
       "    <tr style=\"text-align: right;\">\n",
       "      <th></th>\n",
       "      <th>count</th>\n",
       "    </tr>\n",
       "  </thead>\n",
       "  <tbody>\n",
       "    <tr>\n",
       "      <th>0</th>\n",
       "      <td>0</td>\n",
       "    </tr>\n",
       "  </tbody>\n",
       "</table>\n",
       "</div>"
      ],
      "text/plain": [
       "   count\n",
       "0      0"
      ]
     },
     "execution_count": 5,
     "metadata": {},
     "output_type": "execute_result"
    }
   ],
   "source": [
    "query_result('SELECT COUNT(*) FROM books WHERE book_id IS NULL')"
   ]
  },
  {
   "cell_type": "code",
   "execution_count": 6,
   "metadata": {},
   "outputs": [
    {
     "data": {
      "text/html": [
       "<div>\n",
       "<style scoped>\n",
       "    .dataframe tbody tr th:only-of-type {\n",
       "        vertical-align: middle;\n",
       "    }\n",
       "\n",
       "    .dataframe tbody tr th {\n",
       "        vertical-align: top;\n",
       "    }\n",
       "\n",
       "    .dataframe thead th {\n",
       "        text-align: right;\n",
       "    }\n",
       "</style>\n",
       "<table border=\"1\" class=\"dataframe\">\n",
       "  <thead>\n",
       "    <tr style=\"text-align: right;\">\n",
       "      <th></th>\n",
       "      <th>count</th>\n",
       "    </tr>\n",
       "  </thead>\n",
       "  <tbody>\n",
       "    <tr>\n",
       "      <th>0</th>\n",
       "      <td>1000</td>\n",
       "    </tr>\n",
       "  </tbody>\n",
       "</table>\n",
       "</div>"
      ],
      "text/plain": [
       "   count\n",
       "0   1000"
      ]
     },
     "execution_count": 6,
     "metadata": {},
     "output_type": "execute_result"
    }
   ],
   "source": [
    "query_result('SELECT COUNT(*) FROM books')"
   ]
  },
  {
   "cell_type": "code",
   "execution_count": 7,
   "metadata": {},
   "outputs": [
    {
     "data": {
      "text/html": [
       "<div>\n",
       "<style scoped>\n",
       "    .dataframe tbody tr th:only-of-type {\n",
       "        vertical-align: middle;\n",
       "    }\n",
       "\n",
       "    .dataframe tbody tr th {\n",
       "        vertical-align: top;\n",
       "    }\n",
       "\n",
       "    .dataframe thead th {\n",
       "        text-align: right;\n",
       "    }\n",
       "</style>\n",
       "<table border=\"1\" class=\"dataframe\">\n",
       "  <thead>\n",
       "    <tr style=\"text-align: right;\">\n",
       "      <th></th>\n",
       "      <th>book_id</th>\n",
       "      <th>title</th>\n",
       "    </tr>\n",
       "  </thead>\n",
       "  <tbody>\n",
       "  </tbody>\n",
       "</table>\n",
       "</div>"
      ],
      "text/plain": [
       "Empty DataFrame\n",
       "Columns: [book_id, title]\n",
       "Index: []"
      ]
     },
     "execution_count": 7,
     "metadata": {},
     "output_type": "execute_result"
    }
   ],
   "source": [
    "#verificar si existen libros duplicados buscando por su id y titulo\n",
    "query_result('SELECT book_id,title FROM books GROUP BY book_id,title  HAVING COUNT(1) > 1 ')"
   ]
  },
  {
   "cell_type": "markdown",
   "metadata": {},
   "source": [
    "-La tabla books cuenta con registros de las caracteristicas de los libros su nombre, autor, fecha de publicacion etc\n",
    "\n",
    "-La tabla no tiene valores nulos y cuenta con 1000 registros\n",
    "\n",
    "-tampoco se encontraron registros duplicados"
   ]
  },
  {
   "cell_type": "markdown",
   "metadata": {},
   "source": [
    "### Authors"
   ]
  },
  {
   "cell_type": "code",
   "execution_count": 8,
   "metadata": {},
   "outputs": [
    {
     "data": {
      "text/html": [
       "<div>\n",
       "<style scoped>\n",
       "    .dataframe tbody tr th:only-of-type {\n",
       "        vertical-align: middle;\n",
       "    }\n",
       "\n",
       "    .dataframe tbody tr th {\n",
       "        vertical-align: top;\n",
       "    }\n",
       "\n",
       "    .dataframe thead th {\n",
       "        text-align: right;\n",
       "    }\n",
       "</style>\n",
       "<table border=\"1\" class=\"dataframe\">\n",
       "  <thead>\n",
       "    <tr style=\"text-align: right;\">\n",
       "      <th></th>\n",
       "      <th>author_id</th>\n",
       "      <th>author</th>\n",
       "    </tr>\n",
       "  </thead>\n",
       "  <tbody>\n",
       "    <tr>\n",
       "      <th>0</th>\n",
       "      <td>1</td>\n",
       "      <td>A.S. Byatt</td>\n",
       "    </tr>\n",
       "    <tr>\n",
       "      <th>1</th>\n",
       "      <td>2</td>\n",
       "      <td>Aesop/Laura Harris/Laura Gibbs</td>\n",
       "    </tr>\n",
       "    <tr>\n",
       "      <th>2</th>\n",
       "      <td>3</td>\n",
       "      <td>Agatha Christie</td>\n",
       "    </tr>\n",
       "    <tr>\n",
       "      <th>3</th>\n",
       "      <td>4</td>\n",
       "      <td>Alan Brennert</td>\n",
       "    </tr>\n",
       "    <tr>\n",
       "      <th>4</th>\n",
       "      <td>5</td>\n",
       "      <td>Alan Moore/David   Lloyd</td>\n",
       "    </tr>\n",
       "  </tbody>\n",
       "</table>\n",
       "</div>"
      ],
      "text/plain": [
       "   author_id                          author\n",
       "0          1                      A.S. Byatt\n",
       "1          2  Aesop/Laura Harris/Laura Gibbs\n",
       "2          3                 Agatha Christie\n",
       "3          4                   Alan Brennert\n",
       "4          5        Alan Moore/David   Lloyd"
      ]
     },
     "execution_count": 8,
     "metadata": {},
     "output_type": "execute_result"
    }
   ],
   "source": [
    "query_result('SELECT * FROM authors LIMIT 5')"
   ]
  },
  {
   "cell_type": "code",
   "execution_count": 9,
   "metadata": {},
   "outputs": [
    {
     "data": {
      "text/html": [
       "<div>\n",
       "<style scoped>\n",
       "    .dataframe tbody tr th:only-of-type {\n",
       "        vertical-align: middle;\n",
       "    }\n",
       "\n",
       "    .dataframe tbody tr th {\n",
       "        vertical-align: top;\n",
       "    }\n",
       "\n",
       "    .dataframe thead th {\n",
       "        text-align: right;\n",
       "    }\n",
       "</style>\n",
       "<table border=\"1\" class=\"dataframe\">\n",
       "  <thead>\n",
       "    <tr style=\"text-align: right;\">\n",
       "      <th></th>\n",
       "      <th>author_id</th>\n",
       "      <th>author</th>\n",
       "    </tr>\n",
       "  </thead>\n",
       "  <tbody>\n",
       "  </tbody>\n",
       "</table>\n",
       "</div>"
      ],
      "text/plain": [
       "Empty DataFrame\n",
       "Columns: [author_id, author]\n",
       "Index: []"
      ]
     },
     "execution_count": 9,
     "metadata": {},
     "output_type": "execute_result"
    }
   ],
   "source": [
    "query_result('SELECT * FROM authors WHERE author_id IS NULL')"
   ]
  },
  {
   "cell_type": "code",
   "execution_count": 10,
   "metadata": {},
   "outputs": [
    {
     "data": {
      "text/html": [
       "<div>\n",
       "<style scoped>\n",
       "    .dataframe tbody tr th:only-of-type {\n",
       "        vertical-align: middle;\n",
       "    }\n",
       "\n",
       "    .dataframe tbody tr th {\n",
       "        vertical-align: top;\n",
       "    }\n",
       "\n",
       "    .dataframe thead th {\n",
       "        text-align: right;\n",
       "    }\n",
       "</style>\n",
       "<table border=\"1\" class=\"dataframe\">\n",
       "  <thead>\n",
       "    <tr style=\"text-align: right;\">\n",
       "      <th></th>\n",
       "      <th>count</th>\n",
       "    </tr>\n",
       "  </thead>\n",
       "  <tbody>\n",
       "    <tr>\n",
       "      <th>0</th>\n",
       "      <td>636</td>\n",
       "    </tr>\n",
       "  </tbody>\n",
       "</table>\n",
       "</div>"
      ],
      "text/plain": [
       "   count\n",
       "0    636"
      ]
     },
     "execution_count": 10,
     "metadata": {},
     "output_type": "execute_result"
    }
   ],
   "source": [
    "query_result('SELECT COUNT(*) FROM authors ')"
   ]
  },
  {
   "cell_type": "code",
   "execution_count": 11,
   "metadata": {},
   "outputs": [
    {
     "data": {
      "text/html": [
       "<div>\n",
       "<style scoped>\n",
       "    .dataframe tbody tr th:only-of-type {\n",
       "        vertical-align: middle;\n",
       "    }\n",
       "\n",
       "    .dataframe tbody tr th {\n",
       "        vertical-align: top;\n",
       "    }\n",
       "\n",
       "    .dataframe thead th {\n",
       "        text-align: right;\n",
       "    }\n",
       "</style>\n",
       "<table border=\"1\" class=\"dataframe\">\n",
       "  <thead>\n",
       "    <tr style=\"text-align: right;\">\n",
       "      <th></th>\n",
       "      <th>author_id</th>\n",
       "      <th>author</th>\n",
       "    </tr>\n",
       "  </thead>\n",
       "  <tbody>\n",
       "  </tbody>\n",
       "</table>\n",
       "</div>"
      ],
      "text/plain": [
       "Empty DataFrame\n",
       "Columns: [author_id, author]\n",
       "Index: []"
      ]
     },
     "execution_count": 11,
     "metadata": {},
     "output_type": "execute_result"
    }
   ],
   "source": [
    "query_result('SELECT author_id,author FROM authors GROUP BY author_id,author HAVING COUNT(1)>1')"
   ]
  },
  {
   "cell_type": "markdown",
   "metadata": {},
   "source": [
    "-La tabla autores solo cuenta con el nombre del autor y su identidicador unico\n",
    "\n",
    "-La tabla no tiene registros nulos y cuenta con 636 registros\n",
    "\n",
    "-Tampoco se cuenta con registros duplicados"
   ]
  },
  {
   "cell_type": "markdown",
   "metadata": {},
   "source": [
    "### Ratings"
   ]
  },
  {
   "cell_type": "code",
   "execution_count": 12,
   "metadata": {},
   "outputs": [
    {
     "data": {
      "text/html": [
       "<div>\n",
       "<style scoped>\n",
       "    .dataframe tbody tr th:only-of-type {\n",
       "        vertical-align: middle;\n",
       "    }\n",
       "\n",
       "    .dataframe tbody tr th {\n",
       "        vertical-align: top;\n",
       "    }\n",
       "\n",
       "    .dataframe thead th {\n",
       "        text-align: right;\n",
       "    }\n",
       "</style>\n",
       "<table border=\"1\" class=\"dataframe\">\n",
       "  <thead>\n",
       "    <tr style=\"text-align: right;\">\n",
       "      <th></th>\n",
       "      <th>rating_id</th>\n",
       "      <th>book_id</th>\n",
       "      <th>username</th>\n",
       "      <th>rating</th>\n",
       "    </tr>\n",
       "  </thead>\n",
       "  <tbody>\n",
       "    <tr>\n",
       "      <th>0</th>\n",
       "      <td>1</td>\n",
       "      <td>1</td>\n",
       "      <td>ryanfranco</td>\n",
       "      <td>4</td>\n",
       "    </tr>\n",
       "    <tr>\n",
       "      <th>1</th>\n",
       "      <td>2</td>\n",
       "      <td>1</td>\n",
       "      <td>grantpatricia</td>\n",
       "      <td>2</td>\n",
       "    </tr>\n",
       "    <tr>\n",
       "      <th>2</th>\n",
       "      <td>3</td>\n",
       "      <td>1</td>\n",
       "      <td>brandtandrea</td>\n",
       "      <td>5</td>\n",
       "    </tr>\n",
       "    <tr>\n",
       "      <th>3</th>\n",
       "      <td>4</td>\n",
       "      <td>2</td>\n",
       "      <td>lorichen</td>\n",
       "      <td>3</td>\n",
       "    </tr>\n",
       "    <tr>\n",
       "      <th>4</th>\n",
       "      <td>5</td>\n",
       "      <td>2</td>\n",
       "      <td>mariokeller</td>\n",
       "      <td>2</td>\n",
       "    </tr>\n",
       "  </tbody>\n",
       "</table>\n",
       "</div>"
      ],
      "text/plain": [
       "   rating_id  book_id       username  rating\n",
       "0          1        1     ryanfranco       4\n",
       "1          2        1  grantpatricia       2\n",
       "2          3        1   brandtandrea       5\n",
       "3          4        2       lorichen       3\n",
       "4          5        2    mariokeller       2"
      ]
     },
     "execution_count": 12,
     "metadata": {},
     "output_type": "execute_result"
    }
   ],
   "source": [
    "query_result('SELECT * FROM ratings LIMIT 5')"
   ]
  },
  {
   "cell_type": "code",
   "execution_count": 13,
   "metadata": {},
   "outputs": [
    {
     "data": {
      "text/html": [
       "<div>\n",
       "<style scoped>\n",
       "    .dataframe tbody tr th:only-of-type {\n",
       "        vertical-align: middle;\n",
       "    }\n",
       "\n",
       "    .dataframe tbody tr th {\n",
       "        vertical-align: top;\n",
       "    }\n",
       "\n",
       "    .dataframe thead th {\n",
       "        text-align: right;\n",
       "    }\n",
       "</style>\n",
       "<table border=\"1\" class=\"dataframe\">\n",
       "  <thead>\n",
       "    <tr style=\"text-align: right;\">\n",
       "      <th></th>\n",
       "      <th>rating_id</th>\n",
       "      <th>book_id</th>\n",
       "      <th>username</th>\n",
       "      <th>rating</th>\n",
       "    </tr>\n",
       "  </thead>\n",
       "  <tbody>\n",
       "  </tbody>\n",
       "</table>\n",
       "</div>"
      ],
      "text/plain": [
       "Empty DataFrame\n",
       "Columns: [rating_id, book_id, username, rating]\n",
       "Index: []"
      ]
     },
     "execution_count": 13,
     "metadata": {},
     "output_type": "execute_result"
    }
   ],
   "source": [
    "query_result('SELECT * FROM ratings WHERE rating_id IS NULL')"
   ]
  },
  {
   "cell_type": "code",
   "execution_count": 14,
   "metadata": {},
   "outputs": [
    {
     "data": {
      "text/html": [
       "<div>\n",
       "<style scoped>\n",
       "    .dataframe tbody tr th:only-of-type {\n",
       "        vertical-align: middle;\n",
       "    }\n",
       "\n",
       "    .dataframe tbody tr th {\n",
       "        vertical-align: top;\n",
       "    }\n",
       "\n",
       "    .dataframe thead th {\n",
       "        text-align: right;\n",
       "    }\n",
       "</style>\n",
       "<table border=\"1\" class=\"dataframe\">\n",
       "  <thead>\n",
       "    <tr style=\"text-align: right;\">\n",
       "      <th></th>\n",
       "      <th>count</th>\n",
       "    </tr>\n",
       "  </thead>\n",
       "  <tbody>\n",
       "    <tr>\n",
       "      <th>0</th>\n",
       "      <td>6456</td>\n",
       "    </tr>\n",
       "  </tbody>\n",
       "</table>\n",
       "</div>"
      ],
      "text/plain": [
       "   count\n",
       "0   6456"
      ]
     },
     "execution_count": 14,
     "metadata": {},
     "output_type": "execute_result"
    }
   ],
   "source": [
    "query_result('SELECT COUNT(*) FROM ratings')"
   ]
  },
  {
   "cell_type": "code",
   "execution_count": 15,
   "metadata": {},
   "outputs": [
    {
     "data": {
      "text/html": [
       "<div>\n",
       "<style scoped>\n",
       "    .dataframe tbody tr th:only-of-type {\n",
       "        vertical-align: middle;\n",
       "    }\n",
       "\n",
       "    .dataframe tbody tr th {\n",
       "        vertical-align: top;\n",
       "    }\n",
       "\n",
       "    .dataframe thead th {\n",
       "        text-align: right;\n",
       "    }\n",
       "</style>\n",
       "<table border=\"1\" class=\"dataframe\">\n",
       "  <thead>\n",
       "    <tr style=\"text-align: right;\">\n",
       "      <th></th>\n",
       "      <th>rating_id</th>\n",
       "      <th>book_id</th>\n",
       "    </tr>\n",
       "  </thead>\n",
       "  <tbody>\n",
       "  </tbody>\n",
       "</table>\n",
       "</div>"
      ],
      "text/plain": [
       "Empty DataFrame\n",
       "Columns: [rating_id, book_id]\n",
       "Index: []"
      ]
     },
     "execution_count": 15,
     "metadata": {},
     "output_type": "execute_result"
    }
   ],
   "source": [
    "query_result('SELECT rating_id,book_id FROM ratings GROUP BY rating_id,book_id HAVING COUNT(1) > 1')"
   ]
  },
  {
   "cell_type": "markdown",
   "metadata": {},
   "source": [
    "-La tabla ratings cuenta con el nombre de usuario de la persona dio el rating, la informacion unica del libro y su respectivo rating\n",
    "\n",
    "-La tabla no tiene registros nulos y cuenta con 6456 registros\n",
    "\n",
    "-No posee registros duplicados"
   ]
  },
  {
   "cell_type": "markdown",
   "metadata": {},
   "source": [
    "### Reviews"
   ]
  },
  {
   "cell_type": "code",
   "execution_count": 16,
   "metadata": {},
   "outputs": [
    {
     "data": {
      "text/html": [
       "<div>\n",
       "<style scoped>\n",
       "    .dataframe tbody tr th:only-of-type {\n",
       "        vertical-align: middle;\n",
       "    }\n",
       "\n",
       "    .dataframe tbody tr th {\n",
       "        vertical-align: top;\n",
       "    }\n",
       "\n",
       "    .dataframe thead th {\n",
       "        text-align: right;\n",
       "    }\n",
       "</style>\n",
       "<table border=\"1\" class=\"dataframe\">\n",
       "  <thead>\n",
       "    <tr style=\"text-align: right;\">\n",
       "      <th></th>\n",
       "      <th>review_id</th>\n",
       "      <th>book_id</th>\n",
       "      <th>username</th>\n",
       "      <th>text</th>\n",
       "    </tr>\n",
       "  </thead>\n",
       "  <tbody>\n",
       "    <tr>\n",
       "      <th>0</th>\n",
       "      <td>1</td>\n",
       "      <td>1</td>\n",
       "      <td>brandtandrea</td>\n",
       "      <td>Mention society tell send professor analysis. ...</td>\n",
       "    </tr>\n",
       "    <tr>\n",
       "      <th>1</th>\n",
       "      <td>2</td>\n",
       "      <td>1</td>\n",
       "      <td>ryanfranco</td>\n",
       "      <td>Foot glass pretty audience hit themselves. Amo...</td>\n",
       "    </tr>\n",
       "    <tr>\n",
       "      <th>2</th>\n",
       "      <td>3</td>\n",
       "      <td>2</td>\n",
       "      <td>lorichen</td>\n",
       "      <td>Listen treat keep worry. Miss husband tax but ...</td>\n",
       "    </tr>\n",
       "    <tr>\n",
       "      <th>3</th>\n",
       "      <td>4</td>\n",
       "      <td>3</td>\n",
       "      <td>johnsonamanda</td>\n",
       "      <td>Finally month interesting blue could nature cu...</td>\n",
       "    </tr>\n",
       "    <tr>\n",
       "      <th>4</th>\n",
       "      <td>5</td>\n",
       "      <td>3</td>\n",
       "      <td>scotttamara</td>\n",
       "      <td>Nation purpose heavy give wait song will. List...</td>\n",
       "    </tr>\n",
       "  </tbody>\n",
       "</table>\n",
       "</div>"
      ],
      "text/plain": [
       "   review_id  book_id       username  \\\n",
       "0          1        1   brandtandrea   \n",
       "1          2        1     ryanfranco   \n",
       "2          3        2       lorichen   \n",
       "3          4        3  johnsonamanda   \n",
       "4          5        3    scotttamara   \n",
       "\n",
       "                                                text  \n",
       "0  Mention society tell send professor analysis. ...  \n",
       "1  Foot glass pretty audience hit themselves. Amo...  \n",
       "2  Listen treat keep worry. Miss husband tax but ...  \n",
       "3  Finally month interesting blue could nature cu...  \n",
       "4  Nation purpose heavy give wait song will. List...  "
      ]
     },
     "execution_count": 16,
     "metadata": {},
     "output_type": "execute_result"
    }
   ],
   "source": [
    "query_result('SELECT * FROM reviews LIMIT 5')"
   ]
  },
  {
   "cell_type": "code",
   "execution_count": 17,
   "metadata": {},
   "outputs": [
    {
     "data": {
      "text/html": [
       "<div>\n",
       "<style scoped>\n",
       "    .dataframe tbody tr th:only-of-type {\n",
       "        vertical-align: middle;\n",
       "    }\n",
       "\n",
       "    .dataframe tbody tr th {\n",
       "        vertical-align: top;\n",
       "    }\n",
       "\n",
       "    .dataframe thead th {\n",
       "        text-align: right;\n",
       "    }\n",
       "</style>\n",
       "<table border=\"1\" class=\"dataframe\">\n",
       "  <thead>\n",
       "    <tr style=\"text-align: right;\">\n",
       "      <th></th>\n",
       "      <th>review_id</th>\n",
       "      <th>book_id</th>\n",
       "      <th>username</th>\n",
       "      <th>text</th>\n",
       "    </tr>\n",
       "  </thead>\n",
       "  <tbody>\n",
       "  </tbody>\n",
       "</table>\n",
       "</div>"
      ],
      "text/plain": [
       "Empty DataFrame\n",
       "Columns: [review_id, book_id, username, text]\n",
       "Index: []"
      ]
     },
     "execution_count": 17,
     "metadata": {},
     "output_type": "execute_result"
    }
   ],
   "source": [
    "query_result('SELECT * FROM reviews WHERE review_id IS NULL')"
   ]
  },
  {
   "cell_type": "code",
   "execution_count": 18,
   "metadata": {},
   "outputs": [
    {
     "data": {
      "text/html": [
       "<div>\n",
       "<style scoped>\n",
       "    .dataframe tbody tr th:only-of-type {\n",
       "        vertical-align: middle;\n",
       "    }\n",
       "\n",
       "    .dataframe tbody tr th {\n",
       "        vertical-align: top;\n",
       "    }\n",
       "\n",
       "    .dataframe thead th {\n",
       "        text-align: right;\n",
       "    }\n",
       "</style>\n",
       "<table border=\"1\" class=\"dataframe\">\n",
       "  <thead>\n",
       "    <tr style=\"text-align: right;\">\n",
       "      <th></th>\n",
       "      <th>count</th>\n",
       "    </tr>\n",
       "  </thead>\n",
       "  <tbody>\n",
       "    <tr>\n",
       "      <th>0</th>\n",
       "      <td>2793</td>\n",
       "    </tr>\n",
       "  </tbody>\n",
       "</table>\n",
       "</div>"
      ],
      "text/plain": [
       "   count\n",
       "0   2793"
      ]
     },
     "execution_count": 18,
     "metadata": {},
     "output_type": "execute_result"
    }
   ],
   "source": [
    "query_result('SELECT COUNT(*) FROM reviews ')"
   ]
  },
  {
   "cell_type": "code",
   "execution_count": 19,
   "metadata": {},
   "outputs": [
    {
     "data": {
      "text/html": [
       "<div>\n",
       "<style scoped>\n",
       "    .dataframe tbody tr th:only-of-type {\n",
       "        vertical-align: middle;\n",
       "    }\n",
       "\n",
       "    .dataframe tbody tr th {\n",
       "        vertical-align: top;\n",
       "    }\n",
       "\n",
       "    .dataframe thead th {\n",
       "        text-align: right;\n",
       "    }\n",
       "</style>\n",
       "<table border=\"1\" class=\"dataframe\">\n",
       "  <thead>\n",
       "    <tr style=\"text-align: right;\">\n",
       "      <th></th>\n",
       "      <th>review_id</th>\n",
       "      <th>book_id</th>\n",
       "    </tr>\n",
       "  </thead>\n",
       "  <tbody>\n",
       "  </tbody>\n",
       "</table>\n",
       "</div>"
      ],
      "text/plain": [
       "Empty DataFrame\n",
       "Columns: [review_id, book_id]\n",
       "Index: []"
      ]
     },
     "execution_count": 19,
     "metadata": {},
     "output_type": "execute_result"
    }
   ],
   "source": [
    "query_result('SELECT review_id, book_id FROM reviews GROUP BY review_id, book_id HAVING COUNT(1) > 1')"
   ]
  },
  {
   "cell_type": "markdown",
   "metadata": {},
   "source": [
    "-La tabla reviews cuenta con la reseña textual, el usuario quien la redacto y sus respectivos identifacadores unicos de libro y la reviews misma\n",
    "\n",
    "-La tabla no cuenta con resgristros nulos y tiene 2793 registros\n",
    "\n",
    "-No posee registros duplicados"
   ]
  },
  {
   "cell_type": "markdown",
   "metadata": {},
   "source": [
    "### Publishers"
   ]
  },
  {
   "cell_type": "code",
   "execution_count": 20,
   "metadata": {},
   "outputs": [
    {
     "data": {
      "text/html": [
       "<div>\n",
       "<style scoped>\n",
       "    .dataframe tbody tr th:only-of-type {\n",
       "        vertical-align: middle;\n",
       "    }\n",
       "\n",
       "    .dataframe tbody tr th {\n",
       "        vertical-align: top;\n",
       "    }\n",
       "\n",
       "    .dataframe thead th {\n",
       "        text-align: right;\n",
       "    }\n",
       "</style>\n",
       "<table border=\"1\" class=\"dataframe\">\n",
       "  <thead>\n",
       "    <tr style=\"text-align: right;\">\n",
       "      <th></th>\n",
       "      <th>publisher_id</th>\n",
       "      <th>publisher</th>\n",
       "    </tr>\n",
       "  </thead>\n",
       "  <tbody>\n",
       "    <tr>\n",
       "      <th>0</th>\n",
       "      <td>1</td>\n",
       "      <td>Ace</td>\n",
       "    </tr>\n",
       "    <tr>\n",
       "      <th>1</th>\n",
       "      <td>2</td>\n",
       "      <td>Ace Book</td>\n",
       "    </tr>\n",
       "    <tr>\n",
       "      <th>2</th>\n",
       "      <td>3</td>\n",
       "      <td>Ace Books</td>\n",
       "    </tr>\n",
       "    <tr>\n",
       "      <th>3</th>\n",
       "      <td>4</td>\n",
       "      <td>Ace Hardcover</td>\n",
       "    </tr>\n",
       "    <tr>\n",
       "      <th>4</th>\n",
       "      <td>5</td>\n",
       "      <td>Addison Wesley Publishing Company</td>\n",
       "    </tr>\n",
       "  </tbody>\n",
       "</table>\n",
       "</div>"
      ],
      "text/plain": [
       "   publisher_id                          publisher\n",
       "0             1                                Ace\n",
       "1             2                           Ace Book\n",
       "2             3                          Ace Books\n",
       "3             4                      Ace Hardcover\n",
       "4             5  Addison Wesley Publishing Company"
      ]
     },
     "execution_count": 20,
     "metadata": {},
     "output_type": "execute_result"
    }
   ],
   "source": [
    "query_result('SELECT * FROM publishers LIMIT 5')"
   ]
  },
  {
   "cell_type": "code",
   "execution_count": 21,
   "metadata": {},
   "outputs": [
    {
     "data": {
      "text/html": [
       "<div>\n",
       "<style scoped>\n",
       "    .dataframe tbody tr th:only-of-type {\n",
       "        vertical-align: middle;\n",
       "    }\n",
       "\n",
       "    .dataframe tbody tr th {\n",
       "        vertical-align: top;\n",
       "    }\n",
       "\n",
       "    .dataframe thead th {\n",
       "        text-align: right;\n",
       "    }\n",
       "</style>\n",
       "<table border=\"1\" class=\"dataframe\">\n",
       "  <thead>\n",
       "    <tr style=\"text-align: right;\">\n",
       "      <th></th>\n",
       "      <th>publisher_id</th>\n",
       "      <th>publisher</th>\n",
       "    </tr>\n",
       "  </thead>\n",
       "  <tbody>\n",
       "  </tbody>\n",
       "</table>\n",
       "</div>"
      ],
      "text/plain": [
       "Empty DataFrame\n",
       "Columns: [publisher_id, publisher]\n",
       "Index: []"
      ]
     },
     "execution_count": 21,
     "metadata": {},
     "output_type": "execute_result"
    }
   ],
   "source": [
    "query_result('SELECT * FROM publishers WHERE publisher_id IS NULL')"
   ]
  },
  {
   "cell_type": "code",
   "execution_count": 22,
   "metadata": {},
   "outputs": [
    {
     "data": {
      "text/html": [
       "<div>\n",
       "<style scoped>\n",
       "    .dataframe tbody tr th:only-of-type {\n",
       "        vertical-align: middle;\n",
       "    }\n",
       "\n",
       "    .dataframe tbody tr th {\n",
       "        vertical-align: top;\n",
       "    }\n",
       "\n",
       "    .dataframe thead th {\n",
       "        text-align: right;\n",
       "    }\n",
       "</style>\n",
       "<table border=\"1\" class=\"dataframe\">\n",
       "  <thead>\n",
       "    <tr style=\"text-align: right;\">\n",
       "      <th></th>\n",
       "      <th>count</th>\n",
       "    </tr>\n",
       "  </thead>\n",
       "  <tbody>\n",
       "    <tr>\n",
       "      <th>0</th>\n",
       "      <td>340</td>\n",
       "    </tr>\n",
       "  </tbody>\n",
       "</table>\n",
       "</div>"
      ],
      "text/plain": [
       "   count\n",
       "0    340"
      ]
     },
     "execution_count": 22,
     "metadata": {},
     "output_type": "execute_result"
    }
   ],
   "source": [
    "query_result('SELECT COUNT(*) FROM publishers')"
   ]
  },
  {
   "cell_type": "code",
   "execution_count": 23,
   "metadata": {},
   "outputs": [
    {
     "data": {
      "text/html": [
       "<div>\n",
       "<style scoped>\n",
       "    .dataframe tbody tr th:only-of-type {\n",
       "        vertical-align: middle;\n",
       "    }\n",
       "\n",
       "    .dataframe tbody tr th {\n",
       "        vertical-align: top;\n",
       "    }\n",
       "\n",
       "    .dataframe thead th {\n",
       "        text-align: right;\n",
       "    }\n",
       "</style>\n",
       "<table border=\"1\" class=\"dataframe\">\n",
       "  <thead>\n",
       "    <tr style=\"text-align: right;\">\n",
       "      <th></th>\n",
       "      <th>publisher_id</th>\n",
       "      <th>publisher</th>\n",
       "    </tr>\n",
       "  </thead>\n",
       "  <tbody>\n",
       "  </tbody>\n",
       "</table>\n",
       "</div>"
      ],
      "text/plain": [
       "Empty DataFrame\n",
       "Columns: [publisher_id, publisher]\n",
       "Index: []"
      ]
     },
     "execution_count": 23,
     "metadata": {},
     "output_type": "execute_result"
    }
   ],
   "source": [
    "query_result('SELECT publisher_id,publisher FROM publishers GROUP BY publisher_id,publisher HAVING COUNT(1)>1')"
   ]
  },
  {
   "cell_type": "markdown",
   "metadata": {},
   "source": [
    "-La tabla publishers cuenta con el nombre de la editorial y su identificador unico\n",
    "\n",
    "-La tabla no posee registros nulos y cuenta con 340 registros\n",
    "\n",
    "-No posee registros duiplicados"
   ]
  },
  {
   "cell_type": "markdown",
   "metadata": {},
   "source": [
    "## Tareas"
   ]
  },
  {
   "cell_type": "markdown",
   "metadata": {},
   "source": [
    "### Encuentra el número de libros publicados después del 1 de enero de 2000."
   ]
  },
  {
   "cell_type": "code",
   "execution_count": 24,
   "metadata": {},
   "outputs": [
    {
     "data": {
      "text/html": [
       "<div>\n",
       "<style scoped>\n",
       "    .dataframe tbody tr th:only-of-type {\n",
       "        vertical-align: middle;\n",
       "    }\n",
       "\n",
       "    .dataframe tbody tr th {\n",
       "        vertical-align: top;\n",
       "    }\n",
       "\n",
       "    .dataframe thead th {\n",
       "        text-align: right;\n",
       "    }\n",
       "</style>\n",
       "<table border=\"1\" class=\"dataframe\">\n",
       "  <thead>\n",
       "    <tr style=\"text-align: right;\">\n",
       "      <th></th>\n",
       "      <th>cntl</th>\n",
       "    </tr>\n",
       "  </thead>\n",
       "  <tbody>\n",
       "    <tr>\n",
       "      <th>0</th>\n",
       "      <td>819</td>\n",
       "    </tr>\n",
       "  </tbody>\n",
       "</table>\n",
       "</div>"
      ],
      "text/plain": [
       "   cntl\n",
       "0   819"
      ]
     },
     "execution_count": 24,
     "metadata": {},
     "output_type": "execute_result"
    }
   ],
   "source": [
    "query_result(f\"\"\"SELECT COUNT(*) AS cntl FROM books WHERE publication_date > '2000-01-01'\"\"\")"
   ]
  },
  {
   "cell_type": "markdown",
   "metadata": {},
   "source": [
    "-Existe 819 libros que se publicaron despues del 1 de Enero del 2000 esto es un 81.9% de los registros por lo que la gran mayoria son libros de hace aproximadamente 24 años"
   ]
  },
  {
   "cell_type": "markdown",
   "metadata": {},
   "source": [
    "### Encuentra el número de reseñas de usuarios y la calificación promedio para cada libro."
   ]
  },
  {
   "cell_type": "code",
   "execution_count": 25,
   "metadata": {},
   "outputs": [
    {
     "data": {
      "text/html": [
       "<div>\n",
       "<style scoped>\n",
       "    .dataframe tbody tr th:only-of-type {\n",
       "        vertical-align: middle;\n",
       "    }\n",
       "\n",
       "    .dataframe tbody tr th {\n",
       "        vertical-align: top;\n",
       "    }\n",
       "\n",
       "    .dataframe thead th {\n",
       "        text-align: right;\n",
       "    }\n",
       "</style>\n",
       "<table border=\"1\" class=\"dataframe\">\n",
       "  <thead>\n",
       "    <tr style=\"text-align: right;\">\n",
       "      <th></th>\n",
       "      <th>book_id</th>\n",
       "      <th>title</th>\n",
       "      <th>cnt_re</th>\n",
       "      <th>avg_ra</th>\n",
       "    </tr>\n",
       "  </thead>\n",
       "  <tbody>\n",
       "    <tr>\n",
       "      <th>0</th>\n",
       "      <td>86</td>\n",
       "      <td>Arrows of the Queen (Heralds of Valdemar  #1)</td>\n",
       "      <td>2</td>\n",
       "      <td>5.0</td>\n",
       "    </tr>\n",
       "    <tr>\n",
       "      <th>1</th>\n",
       "      <td>169</td>\n",
       "      <td>Crucial Conversations: Tools for Talking When ...</td>\n",
       "      <td>2</td>\n",
       "      <td>5.0</td>\n",
       "    </tr>\n",
       "    <tr>\n",
       "      <th>2</th>\n",
       "      <td>62</td>\n",
       "      <td>Alas  Babylon</td>\n",
       "      <td>2</td>\n",
       "      <td>5.0</td>\n",
       "    </tr>\n",
       "    <tr>\n",
       "      <th>3</th>\n",
       "      <td>57</td>\n",
       "      <td>Act of Treason (Mitch Rapp  #9)</td>\n",
       "      <td>2</td>\n",
       "      <td>5.0</td>\n",
       "    </tr>\n",
       "    <tr>\n",
       "      <th>4</th>\n",
       "      <td>76</td>\n",
       "      <td>Angels Fall</td>\n",
       "      <td>2</td>\n",
       "      <td>5.0</td>\n",
       "    </tr>\n",
       "    <tr>\n",
       "      <th>5</th>\n",
       "      <td>136</td>\n",
       "      <td>Captivating: Unveiling the Mystery of a Woman'...</td>\n",
       "      <td>2</td>\n",
       "      <td>5.0</td>\n",
       "    </tr>\n",
       "    <tr>\n",
       "      <th>6</th>\n",
       "      <td>55</td>\n",
       "      <td>A Woman of Substance (Emma Harte Saga #1)</td>\n",
       "      <td>2</td>\n",
       "      <td>5.0</td>\n",
       "    </tr>\n",
       "    <tr>\n",
       "      <th>7</th>\n",
       "      <td>20</td>\n",
       "      <td>A Fistful of Charms (The Hollows  #4)</td>\n",
       "      <td>2</td>\n",
       "      <td>5.0</td>\n",
       "    </tr>\n",
       "    <tr>\n",
       "      <th>8</th>\n",
       "      <td>17</td>\n",
       "      <td>A Dirty Job (Grim Reaper  #1)</td>\n",
       "      <td>4</td>\n",
       "      <td>5.0</td>\n",
       "    </tr>\n",
       "    <tr>\n",
       "      <th>9</th>\n",
       "      <td>182</td>\n",
       "      <td>Dead Souls</td>\n",
       "      <td>2</td>\n",
       "      <td>5.0</td>\n",
       "    </tr>\n",
       "  </tbody>\n",
       "</table>\n",
       "</div>"
      ],
      "text/plain": [
       "   book_id                                              title  cnt_re  avg_ra\n",
       "0       86      Arrows of the Queen (Heralds of Valdemar  #1)       2     5.0\n",
       "1      169  Crucial Conversations: Tools for Talking When ...       2     5.0\n",
       "2       62                                      Alas  Babylon       2     5.0\n",
       "3       57                    Act of Treason (Mitch Rapp  #9)       2     5.0\n",
       "4       76                                        Angels Fall       2     5.0\n",
       "5      136  Captivating: Unveiling the Mystery of a Woman'...       2     5.0\n",
       "6       55          A Woman of Substance (Emma Harte Saga #1)       2     5.0\n",
       "7       20              A Fistful of Charms (The Hollows  #4)       2     5.0\n",
       "8       17                      A Dirty Job (Grim Reaper  #1)       4     5.0\n",
       "9      182                                         Dead Souls       2     5.0"
      ]
     },
     "execution_count": 25,
     "metadata": {},
     "output_type": "execute_result"
    }
   ],
   "source": [
    "query_result(f\"\"\"SELECT books.book_id ,\n",
    "                                books.title as title,\n",
    "                                COUNT (DISTINCT reviews.review_id) AS cnt_re,\n",
    "                                ROUND(AVG(ratings.rating),2) AS avg_ra\n",
    "                            FROM books \n",
    "                            LEFT JOIN reviews ON books.book_id  = reviews.book_id\n",
    "                            LEFT JOIN ratings ON books.book_id  = ratings.book_id \n",
    "                            GROUP BY books.book_id,books.title\n",
    "                            ORDER BY avg_ra DESC\n",
    "                            LIMIT 10\"\"\")"
   ]
  },
  {
   "cell_type": "code",
   "execution_count": 26,
   "metadata": {},
   "outputs": [
    {
     "data": {
      "text/html": [
       "<div>\n",
       "<style scoped>\n",
       "    .dataframe tbody tr th:only-of-type {\n",
       "        vertical-align: middle;\n",
       "    }\n",
       "\n",
       "    .dataframe tbody tr th {\n",
       "        vertical-align: top;\n",
       "    }\n",
       "\n",
       "    .dataframe thead th {\n",
       "        text-align: right;\n",
       "    }\n",
       "</style>\n",
       "<table border=\"1\" class=\"dataframe\">\n",
       "  <thead>\n",
       "    <tr style=\"text-align: right;\">\n",
       "      <th></th>\n",
       "      <th>book_id</th>\n",
       "      <th>title</th>\n",
       "      <th>cnt_re</th>\n",
       "      <th>avg_ra</th>\n",
       "    </tr>\n",
       "  </thead>\n",
       "  <tbody>\n",
       "    <tr>\n",
       "      <th>0</th>\n",
       "      <td>303</td>\n",
       "      <td>Harvesting the Heart</td>\n",
       "      <td>2</td>\n",
       "      <td>1.50</td>\n",
       "    </tr>\n",
       "    <tr>\n",
       "      <th>1</th>\n",
       "      <td>371</td>\n",
       "      <td>Junky</td>\n",
       "      <td>2</td>\n",
       "      <td>2.00</td>\n",
       "    </tr>\n",
       "    <tr>\n",
       "      <th>2</th>\n",
       "      <td>202</td>\n",
       "      <td>Drowning Ruth</td>\n",
       "      <td>3</td>\n",
       "      <td>2.00</td>\n",
       "    </tr>\n",
       "    <tr>\n",
       "      <th>3</th>\n",
       "      <td>316</td>\n",
       "      <td>His Excellency: George Washington</td>\n",
       "      <td>2</td>\n",
       "      <td>2.00</td>\n",
       "    </tr>\n",
       "    <tr>\n",
       "      <th>4</th>\n",
       "      <td>915</td>\n",
       "      <td>The World Is Flat: A Brief History of the Twen...</td>\n",
       "      <td>3</td>\n",
       "      <td>2.25</td>\n",
       "    </tr>\n",
       "    <tr>\n",
       "      <th>5</th>\n",
       "      <td>794</td>\n",
       "      <td>The Mermaid Chair</td>\n",
       "      <td>3</td>\n",
       "      <td>2.33</td>\n",
       "    </tr>\n",
       "    <tr>\n",
       "      <th>6</th>\n",
       "      <td>772</td>\n",
       "      <td>The Kitchen God's Wife</td>\n",
       "      <td>3</td>\n",
       "      <td>2.33</td>\n",
       "    </tr>\n",
       "    <tr>\n",
       "      <th>7</th>\n",
       "      <td>313</td>\n",
       "      <td>Heretics of Dune (Dune Chronicles #5)</td>\n",
       "      <td>2</td>\n",
       "      <td>2.50</td>\n",
       "    </tr>\n",
       "    <tr>\n",
       "      <th>8</th>\n",
       "      <td>72</td>\n",
       "      <td>Amsterdam</td>\n",
       "      <td>2</td>\n",
       "      <td>2.50</td>\n",
       "    </tr>\n",
       "    <tr>\n",
       "      <th>9</th>\n",
       "      <td>193</td>\n",
       "      <td>Dr. Faustus</td>\n",
       "      <td>2</td>\n",
       "      <td>2.50</td>\n",
       "    </tr>\n",
       "  </tbody>\n",
       "</table>\n",
       "</div>"
      ],
      "text/plain": [
       "   book_id                                              title  cnt_re  avg_ra\n",
       "0      303                               Harvesting the Heart       2    1.50\n",
       "1      371                                              Junky       2    2.00\n",
       "2      202                                      Drowning Ruth       3    2.00\n",
       "3      316                  His Excellency: George Washington       2    2.00\n",
       "4      915  The World Is Flat: A Brief History of the Twen...       3    2.25\n",
       "5      794                                  The Mermaid Chair       3    2.33\n",
       "6      772                             The Kitchen God's Wife       3    2.33\n",
       "7      313              Heretics of Dune (Dune Chronicles #5)       2    2.50\n",
       "8       72                                          Amsterdam       2    2.50\n",
       "9      193                                        Dr. Faustus       2    2.50"
      ]
     },
     "execution_count": 26,
     "metadata": {},
     "output_type": "execute_result"
    }
   ],
   "source": [
    "query_result(f\"\"\"SELECT books.book_id ,\n",
    "                                books.title as title,\n",
    "                                COUNT (DISTINCT reviews.review_id) AS cnt_re,\n",
    "                                ROUND(AVG(ratings.rating),2) AS avg_ra\n",
    "                            FROM books \n",
    "                            LEFT JOIN reviews ON books.book_id  = reviews.book_id\n",
    "                            LEFT JOIN ratings ON books.book_id  = ratings.book_id \n",
    "                            GROUP BY books.book_id,books.title\n",
    "                            ORDER BY avg_ra ASC\n",
    "                            LIMIT 10\"\"\")"
   ]
  },
  {
   "cell_type": "code",
   "execution_count": 27,
   "metadata": {},
   "outputs": [],
   "source": [
    "q=f\"\"\"SELECT books.book_id ,\n",
    "                                books.title as title,\n",
    "                                COUNT (DISTINCT reviews.review_id) AS cnt_re,\n",
    "                                ROUND(AVG(ratings.rating),2) AS avg_ra\n",
    "                            FROM books \n",
    "                            LEFT JOIN reviews ON books.book_id  = reviews.book_id\n",
    "                            LEFT JOIN ratings ON books.book_id  = ratings.book_id \n",
    "                            GROUP BY books.book_id,books.title\n",
    "                            ORDER BY avg_ra \n",
    "                            \"\"\"\n",
    "\n",
    "df_re_ra = pd.read_sql_query(q, con = engine)"
   ]
  },
  {
   "cell_type": "code",
   "execution_count": 28,
   "metadata": {},
   "outputs": [
    {
     "name": "stdout",
     "output_type": "stream",
     "text": [
      "     book_id                                              title  cnt_re  \\\n",
      "0        303                               Harvesting the Heart       2   \n",
      "1        371                                              Junky       2   \n",
      "2        316                  His Excellency: George Washington       2   \n",
      "3        202                                      Drowning Ruth       3   \n",
      "4        915  The World Is Flat: A Brief History of the Twen...       3   \n",
      "..       ...                                                ...     ...   \n",
      "995      421                                        Marvel 1602       2   \n",
      "996      418                                              March       2   \n",
      "997      169  Crucial Conversations: Tools for Talking When ...       2   \n",
      "998      901  The Walking Dead  Book One (The Walking Dead #...       2   \n",
      "999      902  The War of Art: Break Through the Blocks & Win...       2   \n",
      "\n",
      "     avg_ra  \n",
      "0      1.50  \n",
      "1      2.00  \n",
      "2      2.00  \n",
      "3      2.00  \n",
      "4      2.25  \n",
      "..      ...  \n",
      "995    5.00  \n",
      "996    5.00  \n",
      "997    5.00  \n",
      "998    5.00  \n",
      "999    5.00  \n",
      "\n",
      "[1000 rows x 4 columns]\n"
     ]
    }
   ],
   "source": [
    "print(df_re_ra)"
   ]
  },
  {
   "cell_type": "code",
   "execution_count": 29,
   "metadata": {},
   "outputs": [
    {
     "name": "stdout",
     "output_type": "stream",
     "text": [
      "        cnt_re    avg_ra\n",
      "cnt_re                  \n",
      "0            6  3.945000\n",
      "1           37  3.815135\n",
      "2          444  3.914369\n",
      "3          277  3.862238\n",
      "4          160  3.908375\n",
      "5           60  3.957500\n",
      "6           15  3.996000\n",
      "7            1  3.660000\n"
     ]
    }
   ],
   "source": [
    "print(df_re_ra.groupby('cnt_re').agg({'cnt_re':'count','avg_ra':'mean'}))"
   ]
  },
  {
   "cell_type": "code",
   "execution_count": 30,
   "metadata": {},
   "outputs": [
    {
     "name": "stdout",
     "output_type": "stream",
     "text": [
      "     book_id                                              title  cnt_re  \\\n",
      "35       876  The Stranger Beside Me: Ted Bundy: The Shockin...       2   \n",
      "36       877                                  The Street Lawyer       3   \n",
      "37       585              Son of a Witch (The Wicked Years  #2)       2   \n",
      "38       178                             Dark Prince (Dark  #1)       2   \n",
      "39       694                               The Crying of Lot 49       2   \n",
      "..       ...                                                ...     ...   \n",
      "995      421                                        Marvel 1602       2   \n",
      "996      418                                              March       2   \n",
      "997      169  Crucial Conversations: Tools for Talking When ...       2   \n",
      "998      901  The Walking Dead  Book One (The Walking Dead #...       2   \n",
      "999      902  The War of Art: Break Through the Blocks & Win...       2   \n",
      "\n",
      "     avg_ra  \n",
      "35      3.0  \n",
      "36      3.0  \n",
      "37      3.0  \n",
      "38      3.0  \n",
      "39      3.0  \n",
      "..      ...  \n",
      "995     5.0  \n",
      "996     5.0  \n",
      "997     5.0  \n",
      "998     5.0  \n",
      "999     5.0  \n",
      "\n",
      "[965 rows x 4 columns]\n"
     ]
    }
   ],
   "source": [
    "print(df_re_ra[df_re_ra['avg_ra']>=3])"
   ]
  },
  {
   "cell_type": "code",
   "execution_count": 31,
   "metadata": {},
   "outputs": [
    {
     "name": "stdout",
     "output_type": "stream",
     "text": [
      "    book_id                                              title  cnt_re  avg_ra\n",
      "0       303                               Harvesting the Heart       2    1.50\n",
      "1       371                                              Junky       2    2.00\n",
      "2       316                  His Excellency: George Washington       2    2.00\n",
      "3       202                                      Drowning Ruth       3    2.00\n",
      "4       915  The World Is Flat: A Brief History of the Twen...       3    2.25\n",
      "5       794                                  The Mermaid Chair       3    2.33\n",
      "6       772                             The Kitchen God's Wife       3    2.33\n",
      "7       822                                     The Penelopiad       2    2.50\n",
      "8       412                   Lucy Sullivan Is Getting Married       2    2.50\n",
      "9       747         The High Lord (Black Magician Trilogy  #3)       2    2.50\n",
      "10      929                                      Thunderstruck       2    2.50\n",
      "11      313              Heretics of Dune (Dune Chronicles #5)       2    2.50\n",
      "12      525                                     Prep : A Novel       2    2.50\n",
      "13      193                                        Dr. Faustus       2    2.50\n",
      "14       72                                          Amsterdam       2    2.50\n",
      "15      943               Tsubasa: RESERVoir CHRoNiCLE  Vol. 1       1    2.50\n",
      "16      858                            The Rules of Attraction       2    2.50\n",
      "17      911                       The Winter of Our Discontent       2    2.50\n",
      "18      939                                   Tropic of Cancer       2    2.50\n",
      "19      983  Wild at Heart: Discovering the Secret of a Man...       2    2.50\n",
      "20      445                                            Monster       2    2.50\n",
      "21      164                            Count Zero (Sprawl  #2)       2    2.50\n",
      "22      318                                  History of Beauty       1    2.50\n",
      "23      493                                         Open House       2    2.50\n",
      "24      288                      Gossip Girl (Gossip Girl  #1)       2    2.50\n",
      "25        2                 1 000 Places to See Before You Die       1    2.50\n",
      "26      470          Neither Here nor There: Travels in Europe       2    2.50\n",
      "27      765                          The Jane Austen Book Club       3    2.67\n",
      "28      278                                        Ghost Story       2    2.67\n",
      "29      552  Saving the World and Other Extreme Sports (Max...       3    2.67\n",
      "30      272               Furies of Calderon (Codex Alera  #1)       3    2.67\n",
      "31       96  Beauty: A Retelling of the Story of Beauty and...       3    2.67\n",
      "32      557                      Seven Up (Stephanie Plum  #7)       3    2.75\n",
      "33      452                                          Mr. Maybe       2    2.75\n",
      "34      200                                       Dreamcatcher       3    2.80\n"
     ]
    }
   ],
   "source": [
    "print(df_re_ra[df_re_ra['avg_ra']<3])"
   ]
  },
  {
   "cell_type": "markdown",
   "metadata": {},
   "source": [
    "-La mayor cantidad de reseñas por libros es 2 y la mayor es de 7, se puede ver que no se han hecho reseñas de todos los libros.\n",
    "\n",
    "-El rating de un libro que se puede decir que es bueno se dejara en este caso de 3 hacia arriba los cuales son la gran mayoria.\n",
    "\n",
    "-Con esto podemos concluir que los libros no estan teniendo muchas reseñas y que por lo general se califican como bastante buenas."
   ]
  },
  {
   "cell_type": "markdown",
   "metadata": {},
   "source": [
    "### Identifica la editorial que ha publicado el mayor número de libros con más de 50 páginas."
   ]
  },
  {
   "cell_type": "code",
   "execution_count": 32,
   "metadata": {},
   "outputs": [
    {
     "data": {
      "text/html": [
       "<div>\n",
       "<style scoped>\n",
       "    .dataframe tbody tr th:only-of-type {\n",
       "        vertical-align: middle;\n",
       "    }\n",
       "\n",
       "    .dataframe tbody tr th {\n",
       "        vertical-align: top;\n",
       "    }\n",
       "\n",
       "    .dataframe thead th {\n",
       "        text-align: right;\n",
       "    }\n",
       "</style>\n",
       "<table border=\"1\" class=\"dataframe\">\n",
       "  <thead>\n",
       "    <tr style=\"text-align: right;\">\n",
       "      <th></th>\n",
       "      <th>publisher_id</th>\n",
       "      <th>publisher</th>\n",
       "      <th>cnt_publ</th>\n",
       "    </tr>\n",
       "  </thead>\n",
       "  <tbody>\n",
       "    <tr>\n",
       "      <th>0</th>\n",
       "      <td>212</td>\n",
       "      <td>Penguin Books</td>\n",
       "      <td>42</td>\n",
       "    </tr>\n",
       "    <tr>\n",
       "      <th>1</th>\n",
       "      <td>309</td>\n",
       "      <td>Vintage</td>\n",
       "      <td>31</td>\n",
       "    </tr>\n",
       "    <tr>\n",
       "      <th>2</th>\n",
       "      <td>116</td>\n",
       "      <td>Grand Central Publishing</td>\n",
       "      <td>25</td>\n",
       "    </tr>\n",
       "    <tr>\n",
       "      <th>3</th>\n",
       "      <td>217</td>\n",
       "      <td>Penguin Classics</td>\n",
       "      <td>24</td>\n",
       "    </tr>\n",
       "    <tr>\n",
       "      <th>4</th>\n",
       "      <td>33</td>\n",
       "      <td>Ballantine Books</td>\n",
       "      <td>19</td>\n",
       "    </tr>\n",
       "    <tr>\n",
       "      <th>5</th>\n",
       "      <td>35</td>\n",
       "      <td>Bantam</td>\n",
       "      <td>19</td>\n",
       "    </tr>\n",
       "    <tr>\n",
       "      <th>6</th>\n",
       "      <td>45</td>\n",
       "      <td>Berkley</td>\n",
       "      <td>17</td>\n",
       "    </tr>\n",
       "    <tr>\n",
       "      <th>7</th>\n",
       "      <td>284</td>\n",
       "      <td>St. Martin's Press</td>\n",
       "      <td>14</td>\n",
       "    </tr>\n",
       "    <tr>\n",
       "      <th>8</th>\n",
       "      <td>46</td>\n",
       "      <td>Berkley Books</td>\n",
       "      <td>14</td>\n",
       "    </tr>\n",
       "    <tr>\n",
       "      <th>9</th>\n",
       "      <td>83</td>\n",
       "      <td>Delta</td>\n",
       "      <td>13</td>\n",
       "    </tr>\n",
       "  </tbody>\n",
       "</table>\n",
       "</div>"
      ],
      "text/plain": [
       "   publisher_id                 publisher  cnt_publ\n",
       "0           212             Penguin Books        42\n",
       "1           309                   Vintage        31\n",
       "2           116  Grand Central Publishing        25\n",
       "3           217          Penguin Classics        24\n",
       "4            33          Ballantine Books        19\n",
       "5            35                    Bantam        19\n",
       "6            45                   Berkley        17\n",
       "7           284        St. Martin's Press        14\n",
       "8            46             Berkley Books        14\n",
       "9            83                     Delta        13"
      ]
     },
     "execution_count": 32,
     "metadata": {},
     "output_type": "execute_result"
    }
   ],
   "source": [
    "query_result(f\"\"\"SELECT publishers.publisher_id,\n",
    "                                            publishers.publisher,\n",
    "                                            COUNT(books.publisher_id) AS cnt_publ\n",
    "                                    FROM\n",
    "                                        books\n",
    "                                        INNER JOIN publishers ON books.publisher_id = publishers.publisher_id\n",
    "                                    WHERE books.num_pages > 50\n",
    "                                    GROUP BY publishers.publisher_id,publishers.publisher\n",
    "                                    ORDER BY cnt_publ DESC\n",
    "                                    LIMIT 10\"\"\")"
   ]
  },
  {
   "cell_type": "markdown",
   "metadata": {},
   "source": [
    "-La editorial Penguin Books es la que mas libros ha publicado con 42, sabiendo esto se puede buscar hacer una asociacion con la editora para realizar publicaciones dentro de la aplicacion"
   ]
  },
  {
   "cell_type": "markdown",
   "metadata": {},
   "source": [
    "### Identifica al autor que tiene la más alta calificación promedio del libro: mira solo los libros con al menos 50 calificaciones."
   ]
  },
  {
   "cell_type": "code",
   "execution_count": 33,
   "metadata": {},
   "outputs": [
    {
     "data": {
      "text/html": [
       "<div>\n",
       "<style scoped>\n",
       "    .dataframe tbody tr th:only-of-type {\n",
       "        vertical-align: middle;\n",
       "    }\n",
       "\n",
       "    .dataframe tbody tr th {\n",
       "        vertical-align: top;\n",
       "    }\n",
       "\n",
       "    .dataframe thead th {\n",
       "        text-align: right;\n",
       "    }\n",
       "</style>\n",
       "<table border=\"1\" class=\"dataframe\">\n",
       "  <thead>\n",
       "    <tr style=\"text-align: right;\">\n",
       "      <th></th>\n",
       "      <th>author_id</th>\n",
       "      <th>name_author</th>\n",
       "      <th>a_avg_rating</th>\n",
       "    </tr>\n",
       "  </thead>\n",
       "  <tbody>\n",
       "    <tr>\n",
       "      <th>0</th>\n",
       "      <td>302</td>\n",
       "      <td>John Grisham</td>\n",
       "      <td>4.414634</td>\n",
       "    </tr>\n",
       "    <tr>\n",
       "      <th>1</th>\n",
       "      <td>299</td>\n",
       "      <td>John Eldredge/Stasi Eldredge</td>\n",
       "      <td>4.287500</td>\n",
       "    </tr>\n",
       "    <tr>\n",
       "      <th>2</th>\n",
       "      <td>300</td>\n",
       "      <td>John Fowles</td>\n",
       "      <td>4.246575</td>\n",
       "    </tr>\n",
       "    <tr>\n",
       "      <th>3</th>\n",
       "      <td>399</td>\n",
       "      <td>Mark Twain/Shelly Fisher Fishkin</td>\n",
       "      <td>4.192308</td>\n",
       "    </tr>\n",
       "    <tr>\n",
       "      <th>4</th>\n",
       "      <td>301</td>\n",
       "      <td>John Gray</td>\n",
       "      <td>4.186667</td>\n",
       "    </tr>\n",
       "    <tr>\n",
       "      <th>5</th>\n",
       "      <td>405</td>\n",
       "      <td>Mary Karr</td>\n",
       "      <td>3.901408</td>\n",
       "    </tr>\n",
       "    <tr>\n",
       "      <th>6</th>\n",
       "      <td>627</td>\n",
       "      <td>William Shakespeare/Barbara A. Mowat/Paul Wers...</td>\n",
       "      <td>3.789474</td>\n",
       "    </tr>\n",
       "    <tr>\n",
       "      <th>7</th>\n",
       "      <td>545</td>\n",
       "      <td>Stephen King/Bettina Blanch Tyroller</td>\n",
       "      <td>3.787879</td>\n",
       "    </tr>\n",
       "    <tr>\n",
       "      <th>8</th>\n",
       "      <td>79</td>\n",
       "      <td>Chaim Potok</td>\n",
       "      <td>3.729730</td>\n",
       "    </tr>\n",
       "    <tr>\n",
       "      <th>9</th>\n",
       "      <td>75</td>\n",
       "      <td>Caroline B. Cooney</td>\n",
       "      <td>3.678571</td>\n",
       "    </tr>\n",
       "    <tr>\n",
       "      <th>10</th>\n",
       "      <td>488</td>\n",
       "      <td>Raymond E. Feist</td>\n",
       "      <td>3.622951</td>\n",
       "    </tr>\n",
       "  </tbody>\n",
       "</table>\n",
       "</div>"
      ],
      "text/plain": [
       "    author_id                                        name_author  a_avg_rating\n",
       "0         302                                       John Grisham      4.414634\n",
       "1         299                       John Eldredge/Stasi Eldredge      4.287500\n",
       "2         300                                        John Fowles      4.246575\n",
       "3         399                   Mark Twain/Shelly Fisher Fishkin      4.192308\n",
       "4         301                                          John Gray      4.186667\n",
       "5         405                                          Mary Karr      3.901408\n",
       "6         627  William Shakespeare/Barbara A. Mowat/Paul Wers...      3.789474\n",
       "7         545               Stephen King/Bettina Blanch Tyroller      3.787879\n",
       "8          79                                        Chaim Potok      3.729730\n",
       "9          75                                 Caroline B. Cooney      3.678571\n",
       "10        488                                   Raymond E. Feist      3.622951"
      ]
     },
     "execution_count": 33,
     "metadata": {},
     "output_type": "execute_result"
    }
   ],
   "source": [
    "query_result(f\"\"\"SELECT authors.author_id,\n",
    "                        authors.author as name_author,\n",
    "                       \n",
    "                        AVG(book_avg_ratings.avg_rating) as a_avg_rating\n",
    "                 FROM authors \n",
    "                 JOIN books ON authors.author_id = books.book_id\n",
    "                 JOIN(\n",
    "                     SELECT book_id,\n",
    "                             AVG(rating) AS avg_rating\n",
    "                     FROM ratings\n",
    "                     GROUP BY book_id\n",
    "                     HAVING COUNT(rating)>=50) AS book_avg_ratings ON books.book_id = book_avg_ratings.book_id\n",
    "                 GROUP BY authors.author_id,authors.author\n",
    "                 ORDER BY a_avg_rating DESC\"\"\")\n"
   ]
  },
  {
   "cell_type": "code",
   "execution_count": null,
   "metadata": {},
   "outputs": [],
   "source": []
  },
  {
   "cell_type": "code",
   "execution_count": 48,
   "metadata": {},
   "outputs": [
    {
     "data": {
      "text/html": [
       "<div>\n",
       "<style scoped>\n",
       "    .dataframe tbody tr th:only-of-type {\n",
       "        vertical-align: middle;\n",
       "    }\n",
       "\n",
       "    .dataframe tbody tr th {\n",
       "        vertical-align: top;\n",
       "    }\n",
       "\n",
       "    .dataframe thead th {\n",
       "        text-align: right;\n",
       "    }\n",
       "</style>\n",
       "<table border=\"1\" class=\"dataframe\">\n",
       "  <thead>\n",
       "    <tr style=\"text-align: right;\">\n",
       "      <th></th>\n",
       "      <th>author</th>\n",
       "      <th>author_id</th>\n",
       "      <th>avg_ra</th>\n",
       "    </tr>\n",
       "  </thead>\n",
       "  <tbody>\n",
       "    <tr>\n",
       "      <th>0</th>\n",
       "      <td>J.K. Rowling/Mary GrandPré</td>\n",
       "      <td>236</td>\n",
       "      <td>4.29</td>\n",
       "    </tr>\n",
       "    <tr>\n",
       "      <th>1</th>\n",
       "      <td>Agatha Christie</td>\n",
       "      <td>3</td>\n",
       "      <td>4.28</td>\n",
       "    </tr>\n",
       "    <tr>\n",
       "      <th>2</th>\n",
       "      <td>Markus Zusak/Cao Xuân Việt Khương</td>\n",
       "      <td>402</td>\n",
       "      <td>4.26</td>\n",
       "    </tr>\n",
       "    <tr>\n",
       "      <th>3</th>\n",
       "      <td>J.R.R. Tolkien</td>\n",
       "      <td>240</td>\n",
       "      <td>4.24</td>\n",
       "    </tr>\n",
       "    <tr>\n",
       "      <th>4</th>\n",
       "      <td>Roald Dahl/Quentin Blake</td>\n",
       "      <td>499</td>\n",
       "      <td>4.21</td>\n",
       "    </tr>\n",
       "    <tr>\n",
       "      <th>5</th>\n",
       "      <td>Louisa May Alcott</td>\n",
       "      <td>376</td>\n",
       "      <td>4.20</td>\n",
       "    </tr>\n",
       "    <tr>\n",
       "      <th>6</th>\n",
       "      <td>Rick Riordan</td>\n",
       "      <td>498</td>\n",
       "      <td>4.13</td>\n",
       "    </tr>\n",
       "    <tr>\n",
       "      <th>7</th>\n",
       "      <td>Arthur Golden</td>\n",
       "      <td>39</td>\n",
       "      <td>4.11</td>\n",
       "    </tr>\n",
       "    <tr>\n",
       "      <th>8</th>\n",
       "      <td>Stephen King</td>\n",
       "      <td>542</td>\n",
       "      <td>4.01</td>\n",
       "    </tr>\n",
       "    <tr>\n",
       "      <th>9</th>\n",
       "      <td>John Grisham</td>\n",
       "      <td>302</td>\n",
       "      <td>3.97</td>\n",
       "    </tr>\n",
       "    <tr>\n",
       "      <th>10</th>\n",
       "      <td>William Golding</td>\n",
       "      <td>621</td>\n",
       "      <td>3.90</td>\n",
       "    </tr>\n",
       "    <tr>\n",
       "      <th>11</th>\n",
       "      <td>Jodi Picoult</td>\n",
       "      <td>291</td>\n",
       "      <td>3.88</td>\n",
       "    </tr>\n",
       "    <tr>\n",
       "      <th>12</th>\n",
       "      <td>Sophie Kinsella</td>\n",
       "      <td>536</td>\n",
       "      <td>3.88</td>\n",
       "    </tr>\n",
       "    <tr>\n",
       "      <th>13</th>\n",
       "      <td>Nicholas Sparks</td>\n",
       "      <td>445</td>\n",
       "      <td>3.88</td>\n",
       "    </tr>\n",
       "    <tr>\n",
       "      <th>14</th>\n",
       "      <td>James Patterson</td>\n",
       "      <td>257</td>\n",
       "      <td>3.86</td>\n",
       "    </tr>\n",
       "    <tr>\n",
       "      <th>15</th>\n",
       "      <td>J.D. Salinger</td>\n",
       "      <td>235</td>\n",
       "      <td>3.85</td>\n",
       "    </tr>\n",
       "    <tr>\n",
       "      <th>16</th>\n",
       "      <td>William Shakespeare/Paul Werstine/Barbara A. M...</td>\n",
       "      <td>630</td>\n",
       "      <td>3.79</td>\n",
       "    </tr>\n",
       "    <tr>\n",
       "      <th>17</th>\n",
       "      <td>Paulo Coelho/Alan R. Clarke/Özdemir İnce</td>\n",
       "      <td>469</td>\n",
       "      <td>3.79</td>\n",
       "    </tr>\n",
       "    <tr>\n",
       "      <th>18</th>\n",
       "      <td>Lois Lowry</td>\n",
       "      <td>372</td>\n",
       "      <td>3.74</td>\n",
       "    </tr>\n",
       "    <tr>\n",
       "      <th>19</th>\n",
       "      <td>Dan Brown</td>\n",
       "      <td>106</td>\n",
       "      <td>3.74</td>\n",
       "    </tr>\n",
       "    <tr>\n",
       "      <th>20</th>\n",
       "      <td>George Orwell/Boris Grabnar/Peter Škerl</td>\n",
       "      <td>195</td>\n",
       "      <td>3.73</td>\n",
       "    </tr>\n",
       "    <tr>\n",
       "      <th>21</th>\n",
       "      <td>Stephenie Meyer</td>\n",
       "      <td>554</td>\n",
       "      <td>3.66</td>\n",
       "    </tr>\n",
       "    <tr>\n",
       "      <th>22</th>\n",
       "      <td>John Steinbeck</td>\n",
       "      <td>311</td>\n",
       "      <td>3.64</td>\n",
       "    </tr>\n",
       "  </tbody>\n",
       "</table>\n",
       "</div>"
      ],
      "text/plain": [
       "                                               author  author_id  avg_ra\n",
       "0                          J.K. Rowling/Mary GrandPré        236    4.29\n",
       "1                                     Agatha Christie          3    4.28\n",
       "2                   Markus Zusak/Cao Xuân Việt Khương        402    4.26\n",
       "3                                      J.R.R. Tolkien        240    4.24\n",
       "4                            Roald Dahl/Quentin Blake        499    4.21\n",
       "5                                   Louisa May Alcott        376    4.20\n",
       "6                                        Rick Riordan        498    4.13\n",
       "7                                       Arthur Golden         39    4.11\n",
       "8                                        Stephen King        542    4.01\n",
       "9                                        John Grisham        302    3.97\n",
       "10                                    William Golding        621    3.90\n",
       "11                                       Jodi Picoult        291    3.88\n",
       "12                                    Sophie Kinsella        536    3.88\n",
       "13                                    Nicholas Sparks        445    3.88\n",
       "14                                    James Patterson        257    3.86\n",
       "15                                      J.D. Salinger        235    3.85\n",
       "16  William Shakespeare/Paul Werstine/Barbara A. M...        630    3.79\n",
       "17           Paulo Coelho/Alan R. Clarke/Özdemir İnce        469    3.79\n",
       "18                                         Lois Lowry        372    3.74\n",
       "19                                          Dan Brown        106    3.74\n",
       "20            George Orwell/Boris Grabnar/Peter Škerl        195    3.73\n",
       "21                                    Stephenie Meyer        554    3.66\n",
       "22                                     John Steinbeck        311    3.64"
      ]
     },
     "execution_count": 48,
     "metadata": {},
     "output_type": "execute_result"
    }
   ],
   "source": [
    "query_result(f\"\"\"SELECT authors.author,authors.author_id,\n",
    "                        book_ra.avg_ra\n",
    "                        FROM authors\n",
    "                        JOIN (\n",
    "                                SELECT books.author_id AS author_id,\n",
    "                                       ROUND(AVG(ratings.rating),2 )AS avg_ra\n",
    "                                FROM books\n",
    "                                JOIN ratings ON books.book_id = ratings.book_id\n",
    "                                GROUP BY books.author_id\n",
    "                                HAVING COUNT(ratings.book_id) > 50  \n",
    "                             ) AS book_ra ON authors.author_id = book_ra.author_id\n",
    "                        ORDER BY book_ra.avg_ra DESC\n",
    "                             \n",
    "                             \n",
    "                             \"\"\")\n"
   ]
  },
  {
   "cell_type": "code",
   "execution_count": 67,
   "metadata": {},
   "outputs": [
    {
     "data": {
      "text/html": [
       "<div>\n",
       "<style scoped>\n",
       "    .dataframe tbody tr th:only-of-type {\n",
       "        vertical-align: middle;\n",
       "    }\n",
       "\n",
       "    .dataframe tbody tr th {\n",
       "        vertical-align: top;\n",
       "    }\n",
       "\n",
       "    .dataframe thead th {\n",
       "        text-align: right;\n",
       "    }\n",
       "</style>\n",
       "<table border=\"1\" class=\"dataframe\">\n",
       "  <thead>\n",
       "    <tr style=\"text-align: right;\">\n",
       "      <th></th>\n",
       "      <th>author_id</th>\n",
       "      <th>avg_ra</th>\n",
       "      <th>count</th>\n",
       "    </tr>\n",
       "  </thead>\n",
       "  <tbody>\n",
       "    <tr>\n",
       "      <th>0</th>\n",
       "      <td>236</td>\n",
       "      <td>4.288462</td>\n",
       "      <td>312</td>\n",
       "    </tr>\n",
       "    <tr>\n",
       "      <th>1</th>\n",
       "      <td>240</td>\n",
       "      <td>4.240964</td>\n",
       "      <td>166</td>\n",
       "    </tr>\n",
       "    <tr>\n",
       "      <th>2</th>\n",
       "      <td>554</td>\n",
       "      <td>3.662500</td>\n",
       "      <td>160</td>\n",
       "    </tr>\n",
       "    <tr>\n",
       "      <th>3</th>\n",
       "      <td>106</td>\n",
       "      <td>3.741259</td>\n",
       "      <td>143</td>\n",
       "    </tr>\n",
       "    <tr>\n",
       "      <th>4</th>\n",
       "      <td>445</td>\n",
       "      <td>3.882883</td>\n",
       "      <td>111</td>\n",
       "    </tr>\n",
       "    <tr>\n",
       "      <th>5</th>\n",
       "      <td>542</td>\n",
       "      <td>4.009434</td>\n",
       "      <td>106</td>\n",
       "    </tr>\n",
       "    <tr>\n",
       "      <th>6</th>\n",
       "      <td>235</td>\n",
       "      <td>3.846939</td>\n",
       "      <td>98</td>\n",
       "    </tr>\n",
       "    <tr>\n",
       "      <th>7</th>\n",
       "      <td>498</td>\n",
       "      <td>4.130952</td>\n",
       "      <td>84</td>\n",
       "    </tr>\n",
       "    <tr>\n",
       "      <th>8</th>\n",
       "      <td>291</td>\n",
       "      <td>3.881579</td>\n",
       "      <td>76</td>\n",
       "    </tr>\n",
       "    <tr>\n",
       "      <th>9</th>\n",
       "      <td>195</td>\n",
       "      <td>3.729730</td>\n",
       "      <td>74</td>\n",
       "    </tr>\n",
       "    <tr>\n",
       "      <th>10</th>\n",
       "      <td>311</td>\n",
       "      <td>3.643836</td>\n",
       "      <td>73</td>\n",
       "    </tr>\n",
       "    <tr>\n",
       "      <th>11</th>\n",
       "      <td>621</td>\n",
       "      <td>3.901408</td>\n",
       "      <td>71</td>\n",
       "    </tr>\n",
       "    <tr>\n",
       "      <th>12</th>\n",
       "      <td>302</td>\n",
       "      <td>3.971429</td>\n",
       "      <td>70</td>\n",
       "    </tr>\n",
       "    <tr>\n",
       "      <th>13</th>\n",
       "      <td>630</td>\n",
       "      <td>3.787879</td>\n",
       "      <td>66</td>\n",
       "    </tr>\n",
       "    <tr>\n",
       "      <th>14</th>\n",
       "      <td>372</td>\n",
       "      <td>3.738462</td>\n",
       "      <td>65</td>\n",
       "    </tr>\n",
       "    <tr>\n",
       "      <th>15</th>\n",
       "      <td>257</td>\n",
       "      <td>3.859375</td>\n",
       "      <td>64</td>\n",
       "    </tr>\n",
       "    <tr>\n",
       "      <th>16</th>\n",
       "      <td>499</td>\n",
       "      <td>4.209677</td>\n",
       "      <td>62</td>\n",
       "    </tr>\n",
       "    <tr>\n",
       "      <th>17</th>\n",
       "      <td>536</td>\n",
       "      <td>3.877193</td>\n",
       "      <td>57</td>\n",
       "    </tr>\n",
       "    <tr>\n",
       "      <th>18</th>\n",
       "      <td>469</td>\n",
       "      <td>3.789474</td>\n",
       "      <td>57</td>\n",
       "    </tr>\n",
       "    <tr>\n",
       "      <th>19</th>\n",
       "      <td>39</td>\n",
       "      <td>4.107143</td>\n",
       "      <td>56</td>\n",
       "    </tr>\n",
       "    <tr>\n",
       "      <th>20</th>\n",
       "      <td>376</td>\n",
       "      <td>4.203704</td>\n",
       "      <td>54</td>\n",
       "    </tr>\n",
       "    <tr>\n",
       "      <th>21</th>\n",
       "      <td>3</td>\n",
       "      <td>4.283019</td>\n",
       "      <td>53</td>\n",
       "    </tr>\n",
       "    <tr>\n",
       "      <th>22</th>\n",
       "      <td>402</td>\n",
       "      <td>4.264151</td>\n",
       "      <td>53</td>\n",
       "    </tr>\n",
       "  </tbody>\n",
       "</table>\n",
       "</div>"
      ],
      "text/plain": [
       "    author_id    avg_ra  count\n",
       "0         236  4.288462    312\n",
       "1         240  4.240964    166\n",
       "2         554  3.662500    160\n",
       "3         106  3.741259    143\n",
       "4         445  3.882883    111\n",
       "5         542  4.009434    106\n",
       "6         235  3.846939     98\n",
       "7         498  4.130952     84\n",
       "8         291  3.881579     76\n",
       "9         195  3.729730     74\n",
       "10        311  3.643836     73\n",
       "11        621  3.901408     71\n",
       "12        302  3.971429     70\n",
       "13        630  3.787879     66\n",
       "14        372  3.738462     65\n",
       "15        257  3.859375     64\n",
       "16        499  4.209677     62\n",
       "17        536  3.877193     57\n",
       "18        469  3.789474     57\n",
       "19         39  4.107143     56\n",
       "20        376  4.203704     54\n",
       "21          3  4.283019     53\n",
       "22        402  4.264151     53"
      ]
     },
     "execution_count": 67,
     "metadata": {},
     "output_type": "execute_result"
    }
   ],
   "source": [
    "query_result(f\"\"\"SELECT  books.author_id AS author_id,\n",
    "                                       AVG(ratings.rating) AS avg_ra,\n",
    "                                       COUNT(ratings.book_id) \n",
    "                                FROM books\n",
    "                                JOIN ratings ON books.book_id = ratings.book_id\n",
    "                                GROUP BY books.author_id\n",
    "                                HAVING COUNT(ratings.book_id) > 50\n",
    "                                \n",
    "                                ORDER BY COUNT(ratings.book_id) DESC\n",
    "                             \n",
    "                             \"\"\")\n"
   ]
  },
  {
   "cell_type": "code",
   "execution_count": 62,
   "metadata": {},
   "outputs": [
    {
     "data": {
      "text/html": [
       "<div>\n",
       "<style scoped>\n",
       "    .dataframe tbody tr th:only-of-type {\n",
       "        vertical-align: middle;\n",
       "    }\n",
       "\n",
       "    .dataframe tbody tr th {\n",
       "        vertical-align: top;\n",
       "    }\n",
       "\n",
       "    .dataframe thead th {\n",
       "        text-align: right;\n",
       "    }\n",
       "</style>\n",
       "<table border=\"1\" class=\"dataframe\">\n",
       "  <thead>\n",
       "    <tr style=\"text-align: right;\">\n",
       "      <th></th>\n",
       "      <th>book_id</th>\n",
       "      <th>author_id</th>\n",
       "      <th>avg_ra</th>\n",
       "      <th>count</th>\n",
       "    </tr>\n",
       "  </thead>\n",
       "  <tbody>\n",
       "    <tr>\n",
       "      <th>0</th>\n",
       "      <td>299</td>\n",
       "      <td>236</td>\n",
       "      <td>4.287500</td>\n",
       "      <td>80</td>\n",
       "    </tr>\n",
       "    <tr>\n",
       "      <th>1</th>\n",
       "      <td>300</td>\n",
       "      <td>236</td>\n",
       "      <td>4.246575</td>\n",
       "      <td>73</td>\n",
       "    </tr>\n",
       "    <tr>\n",
       "      <th>2</th>\n",
       "      <td>301</td>\n",
       "      <td>236</td>\n",
       "      <td>4.186667</td>\n",
       "      <td>75</td>\n",
       "    </tr>\n",
       "    <tr>\n",
       "      <th>3</th>\n",
       "      <td>302</td>\n",
       "      <td>236</td>\n",
       "      <td>4.414634</td>\n",
       "      <td>82</td>\n",
       "    </tr>\n",
       "  </tbody>\n",
       "</table>\n",
       "</div>"
      ],
      "text/plain": [
       "   book_id  author_id    avg_ra  count\n",
       "0      299        236  4.287500     80\n",
       "1      300        236  4.246575     73\n",
       "2      301        236  4.186667     75\n",
       "3      302        236  4.414634     82"
      ]
     },
     "execution_count": 62,
     "metadata": {},
     "output_type": "execute_result"
    }
   ],
   "source": [
    "query_result(f\"\"\"SELECT books.book_id, books.author_id AS author_id,\n",
    "                                       AVG(ratings.rating) AS avg_ra,\n",
    "                                       COUNT(ratings.book_id)\n",
    "                                FROM books\n",
    "                                JOIN ratings ON books.book_id = ratings.book_id\n",
    "                                WHERE books.author_id =236\n",
    "                                \n",
    "                                GROUP BY books.book_id,books.author_id\n",
    "                               HAVING COUNT(ratings.book_id)>50\n",
    "                             \n",
    "                             \"\"\")\n"
   ]
  },
  {
   "cell_type": "markdown",
   "metadata": {},
   "source": [
    "-Las autoras J.K. Rowling/Mary GrandPré\tson las que poseen el promedio mas alto de calificaciones, como se puede apreciar esto es debido a que poseen varios libros, en este caso una saga Harry Potter la cual tiene una gran cantidad de calificaciones sus diferentes volumenes por lo que enfocarse en libros que posean varios volumenes es una buena idea."
   ]
  },
  {
   "cell_type": "markdown",
   "metadata": {},
   "source": [
    "### Encuentra el número promedio de reseñas de texto entre los usuarios que calificaron más de 50 libros."
   ]
  },
  {
   "cell_type": "code",
   "execution_count": 110,
   "metadata": {},
   "outputs": [
    {
     "data": {
      "text/html": [
       "<div>\n",
       "<style scoped>\n",
       "    .dataframe tbody tr th:only-of-type {\n",
       "        vertical-align: middle;\n",
       "    }\n",
       "\n",
       "    .dataframe tbody tr th {\n",
       "        vertical-align: top;\n",
       "    }\n",
       "\n",
       "    .dataframe thead th {\n",
       "        text-align: right;\n",
       "    }\n",
       "</style>\n",
       "<table border=\"1\" class=\"dataframe\">\n",
       "  <thead>\n",
       "    <tr style=\"text-align: right;\">\n",
       "      <th></th>\n",
       "      <th>user</th>\n",
       "      <th>review_count</th>\n",
       "      <th>avg_text_reviews</th>\n",
       "    </tr>\n",
       "  </thead>\n",
       "  <tbody>\n",
       "    <tr>\n",
       "      <th>0</th>\n",
       "      <td>sfitzgerald</td>\n",
       "      <td>28</td>\n",
       "      <td>24.333333</td>\n",
       "    </tr>\n",
       "    <tr>\n",
       "      <th>1</th>\n",
       "      <td>jennifermiller</td>\n",
       "      <td>25</td>\n",
       "      <td>24.333333</td>\n",
       "    </tr>\n",
       "    <tr>\n",
       "      <th>2</th>\n",
       "      <td>xdavis</td>\n",
       "      <td>18</td>\n",
       "      <td>24.333333</td>\n",
       "    </tr>\n",
       "    <tr>\n",
       "      <th>3</th>\n",
       "      <td>paul88</td>\n",
       "      <td>22</td>\n",
       "      <td>24.333333</td>\n",
       "    </tr>\n",
       "    <tr>\n",
       "      <th>4</th>\n",
       "      <td>martinadam</td>\n",
       "      <td>27</td>\n",
       "      <td>24.333333</td>\n",
       "    </tr>\n",
       "    <tr>\n",
       "      <th>5</th>\n",
       "      <td>richard89</td>\n",
       "      <td>26</td>\n",
       "      <td>24.333333</td>\n",
       "    </tr>\n",
       "  </tbody>\n",
       "</table>\n",
       "</div>"
      ],
      "text/plain": [
       "             user  review_count  avg_text_reviews\n",
       "0     sfitzgerald            28         24.333333\n",
       "1  jennifermiller            25         24.333333\n",
       "2          xdavis            18         24.333333\n",
       "3          paul88            22         24.333333\n",
       "4      martinadam            27         24.333333\n",
       "5       richard89            26         24.333333"
      ]
     },
     "execution_count": 110,
     "metadata": {},
     "output_type": "execute_result"
    }
   ],
   "source": [
    "query_result(f\"\"\" WITH user_review_counts AS (\n",
    "    SELECT \n",
    "        r.username AS user,\n",
    "        COUNT(r.review_id) AS review_count\n",
    "    FROM \n",
    "        reviews r\n",
    "    WHERE \n",
    "        r.username IN (\n",
    "                        SELECT \n",
    "                            rt.username\n",
    "                        FROM \n",
    "                            ratings rt\n",
    "                        GROUP BY \n",
    "                            rt.username\n",
    "                        HAVING \n",
    "                            COUNT(rt.book_id) > 50\n",
    "                    )\n",
    "    GROUP BY \n",
    "        r.username\n",
    ")\n",
    "\n",
    "SELECT \n",
    "    user_review_counts.user,\n",
    "    user_review_counts.review_count,\n",
    "    (SELECT AVG(review_count) FROM user_review_counts) AS avg_text_reviews\n",
    "FROM \n",
    "    user_review_counts\n",
    "ORDER BY \n",
    "    avg_text_reviews DESC;\n",
    "\n",
    "\n",
    "\n",
    "\n",
    "\n",
    "\n",
    "\"\"\")"
   ]
  },
  {
   "cell_type": "markdown",
   "metadata": {},
   "source": [
    "-El promedio de reseñas de texto que tienen los usuarios que hicieron mas de 50 calificaciones es de 24 por lo que se podria\n",
    "toma este numero como referencia base para ver si un libro es exitoso ya que llamo la suficiente atención para que la personas\n",
    "lo reseñen"
   ]
  }
 ],
 "metadata": {
  "ExecuteTimeLog": [
   {
    "duration": 335,
    "start_time": "2024-11-01T13:10:27.580Z"
   },
   {
    "duration": 6,
    "start_time": "2024-11-01T13:11:02.137Z"
   },
   {
    "duration": 4,
    "start_time": "2024-11-01T13:11:51.773Z"
   },
   {
    "duration": 2,
    "start_time": "2024-11-01T13:12:34.690Z"
   },
   {
    "duration": 5,
    "start_time": "2024-11-01T13:12:35.457Z"
   },
   {
    "duration": 30,
    "start_time": "2024-11-01T13:13:55.808Z"
   },
   {
    "duration": 177,
    "start_time": "2024-11-01T13:14:08.123Z"
   },
   {
    "duration": 49,
    "start_time": "2024-11-01T13:14:45.357Z"
   },
   {
    "duration": 13,
    "start_time": "2024-11-01T13:29:11.675Z"
   },
   {
    "duration": 12,
    "start_time": "2024-11-01T13:38:46.249Z"
   },
   {
    "duration": 11,
    "start_time": "2024-11-01T13:40:13.192Z"
   },
   {
    "duration": 11,
    "start_time": "2024-11-01T13:40:44.955Z"
   },
   {
    "duration": 12,
    "start_time": "2024-11-01T13:41:17.763Z"
   },
   {
    "duration": 11,
    "start_time": "2024-11-01T13:41:59.986Z"
   },
   {
    "duration": 5,
    "start_time": "2024-11-01T13:49:02.946Z"
   },
   {
    "duration": 3,
    "start_time": "2024-11-01T13:49:10.821Z"
   },
   {
    "duration": 418,
    "start_time": "2024-11-01T13:49:18.879Z"
   },
   {
    "duration": 103,
    "start_time": "2024-11-01T13:50:35.229Z"
   },
   {
    "duration": 149,
    "start_time": "2024-11-01T13:50:59.095Z"
   },
   {
    "duration": 14,
    "start_time": "2024-11-01T13:52:17.666Z"
   },
   {
    "duration": 14,
    "start_time": "2024-11-01T13:53:16.624Z"
   },
   {
    "duration": 104,
    "start_time": "2024-11-01T13:53:47.076Z"
   },
   {
    "duration": 104,
    "start_time": "2024-11-01T13:53:59.766Z"
   },
   {
    "duration": 4,
    "start_time": "2024-11-01T13:57:11.467Z"
   },
   {
    "duration": 3,
    "start_time": "2024-11-01T13:57:29.840Z"
   },
   {
    "duration": 3,
    "start_time": "2024-11-01T13:57:38.016Z"
   },
   {
    "duration": 3,
    "start_time": "2024-11-01T13:58:24.184Z"
   },
   {
    "duration": 103,
    "start_time": "2024-11-01T13:58:34.789Z"
   },
   {
    "duration": 114,
    "start_time": "2024-11-01T14:00:21.347Z"
   },
   {
    "duration": 3,
    "start_time": "2024-11-01T14:05:29.651Z"
   },
   {
    "duration": 4,
    "start_time": "2024-11-01T14:06:42.840Z"
   },
   {
    "duration": 3,
    "start_time": "2024-11-01T14:07:03.138Z"
   },
   {
    "duration": 3,
    "start_time": "2024-11-01T14:07:31.812Z"
   },
   {
    "duration": 13,
    "start_time": "2024-11-01T14:09:17.433Z"
   },
   {
    "duration": 19,
    "start_time": "2024-11-01T14:09:28.026Z"
   },
   {
    "duration": 2,
    "start_time": "2024-11-01T14:09:53.722Z"
   },
   {
    "duration": 103,
    "start_time": "2024-11-01T14:09:59.871Z"
   },
   {
    "duration": 108,
    "start_time": "2024-11-01T14:10:37.259Z"
   },
   {
    "duration": 14,
    "start_time": "2024-11-01T14:10:47.711Z"
   },
   {
    "duration": 12,
    "start_time": "2024-11-01T14:10:59.487Z"
   },
   {
    "duration": 17,
    "start_time": "2024-11-01T14:11:17.569Z"
   },
   {
    "duration": 10,
    "start_time": "2024-11-01T14:12:02.692Z"
   },
   {
    "duration": 104,
    "start_time": "2024-11-01T14:12:18.942Z"
   },
   {
    "duration": 10,
    "start_time": "2024-11-01T14:13:25.305Z"
   },
   {
    "duration": 11,
    "start_time": "2024-11-01T14:13:32.312Z"
   },
   {
    "duration": 339,
    "start_time": "2024-11-02T12:42:31.992Z"
   },
   {
    "duration": 24,
    "start_time": "2024-11-02T12:42:34.493Z"
   },
   {
    "duration": 46,
    "start_time": "2024-11-02T12:42:40.558Z"
   },
   {
    "duration": 10,
    "start_time": "2024-11-02T12:42:41.487Z"
   },
   {
    "duration": 11,
    "start_time": "2024-11-02T12:42:42.350Z"
   },
   {
    "duration": 11,
    "start_time": "2024-11-02T12:42:43.237Z"
   },
   {
    "duration": 10,
    "start_time": "2024-11-02T12:42:44.135Z"
   },
   {
    "duration": 622,
    "start_time": "2024-11-02T12:54:04.368Z"
   },
   {
    "duration": 12,
    "start_time": "2024-11-02T12:54:27.233Z"
   },
   {
    "duration": 103,
    "start_time": "2024-11-02T12:54:38.022Z"
   },
   {
    "duration": 107,
    "start_time": "2024-11-02T13:00:06.146Z"
   },
   {
    "duration": 105,
    "start_time": "2024-11-02T13:01:04.888Z"
   },
   {
    "duration": 105,
    "start_time": "2024-11-02T13:03:07.768Z"
   },
   {
    "duration": 111,
    "start_time": "2024-11-02T13:03:27.658Z"
   },
   {
    "duration": 14,
    "start_time": "2024-11-02T13:07:11.025Z"
   },
   {
    "duration": 19,
    "start_time": "2024-11-02T13:10:07.203Z"
   },
   {
    "duration": 107,
    "start_time": "2024-11-02T13:15:48.719Z"
   },
   {
    "duration": 105,
    "start_time": "2024-11-02T13:16:01.351Z"
   },
   {
    "duration": 28,
    "start_time": "2024-11-02T13:16:34.615Z"
   },
   {
    "duration": 14,
    "start_time": "2024-11-02T13:18:57.178Z"
   },
   {
    "duration": 11,
    "start_time": "2024-11-02T13:19:27.122Z"
   },
   {
    "duration": 11,
    "start_time": "2024-11-02T13:21:49.878Z"
   },
   {
    "duration": 11,
    "start_time": "2024-11-02T13:22:13.853Z"
   },
   {
    "duration": 10,
    "start_time": "2024-11-02T13:24:54.384Z"
   },
   {
    "duration": 26,
    "start_time": "2024-11-02T13:26:08.001Z"
   },
   {
    "duration": 11,
    "start_time": "2024-11-02T13:26:41.945Z"
   },
   {
    "duration": 11,
    "start_time": "2024-11-02T13:30:16.382Z"
   },
   {
    "duration": 27,
    "start_time": "2024-11-02T13:31:07.743Z"
   },
   {
    "duration": 106,
    "start_time": "2024-11-02T13:32:00.630Z"
   },
   {
    "duration": 27,
    "start_time": "2024-11-02T13:32:54.716Z"
   },
   {
    "duration": 26,
    "start_time": "2024-11-02T13:36:57.661Z"
   },
   {
    "duration": 29,
    "start_time": "2024-11-02T13:37:37.998Z"
   },
   {
    "duration": 27,
    "start_time": "2024-11-02T13:38:32.600Z"
   },
   {
    "duration": 106,
    "start_time": "2024-11-02T14:02:38.976Z"
   },
   {
    "duration": 18,
    "start_time": "2024-11-02T14:03:23.679Z"
   },
   {
    "duration": 107,
    "start_time": "2024-11-02T14:03:40.018Z"
   },
   {
    "duration": 16,
    "start_time": "2024-11-02T14:03:45.529Z"
   },
   {
    "duration": 11,
    "start_time": "2024-11-02T14:04:00.338Z"
   },
   {
    "duration": 11,
    "start_time": "2024-11-02T14:04:13.369Z"
   },
   {
    "duration": 12,
    "start_time": "2024-11-02T14:04:40.205Z"
   },
   {
    "duration": 13,
    "start_time": "2024-11-02T14:05:39.349Z"
   },
   {
    "duration": 104,
    "start_time": "2024-11-02T14:07:08.215Z"
   },
   {
    "duration": 15,
    "start_time": "2024-11-02T14:07:26.847Z"
   },
   {
    "duration": 12,
    "start_time": "2024-11-02T14:07:37.651Z"
   },
   {
    "duration": 13,
    "start_time": "2024-11-02T14:07:51.149Z"
   },
   {
    "duration": 17,
    "start_time": "2024-11-02T14:09:11.140Z"
   },
   {
    "duration": 104,
    "start_time": "2024-11-02T14:09:22.812Z"
   },
   {
    "duration": 11,
    "start_time": "2024-11-02T14:09:29.194Z"
   },
   {
    "duration": 14,
    "start_time": "2024-11-02T14:10:23.132Z"
   },
   {
    "duration": 14,
    "start_time": "2024-11-02T14:10:51.929Z"
   },
   {
    "duration": 137,
    "start_time": "2024-11-02T14:49:28.000Z"
   },
   {
    "duration": 105,
    "start_time": "2024-11-02T14:49:45.842Z"
   },
   {
    "duration": 106,
    "start_time": "2024-11-02T14:50:34.274Z"
   },
   {
    "duration": 19,
    "start_time": "2024-11-02T14:50:51.698Z"
   },
   {
    "duration": 18,
    "start_time": "2024-11-02T14:51:29.422Z"
   },
   {
    "duration": 354,
    "start_time": "2024-11-03T13:00:52.671Z"
   },
   {
    "duration": 25,
    "start_time": "2024-11-03T13:00:54.136Z"
   },
   {
    "duration": 4,
    "start_time": "2024-11-03T13:05:10.866Z"
   },
   {
    "duration": 34,
    "start_time": "2024-11-03T13:05:43.777Z"
   },
   {
    "duration": 7,
    "start_time": "2024-11-03T13:06:15.280Z"
   },
   {
    "duration": 3,
    "start_time": "2024-11-03T13:06:28.852Z"
   },
   {
    "duration": 36,
    "start_time": "2024-11-03T13:06:52.968Z"
   },
   {
    "duration": 6,
    "start_time": "2024-11-03T13:09:58.265Z"
   },
   {
    "duration": 4,
    "start_time": "2024-11-03T13:10:04.145Z"
   },
   {
    "duration": 3,
    "start_time": "2024-11-03T13:10:07.274Z"
   },
   {
    "duration": 39,
    "start_time": "2024-11-03T13:10:11.385Z"
   },
   {
    "duration": 36,
    "start_time": "2024-11-03T13:10:43.727Z"
   },
   {
    "duration": 37,
    "start_time": "2024-11-03T13:15:02.402Z"
   },
   {
    "duration": 4,
    "start_time": "2024-11-03T13:15:40.538Z"
   },
   {
    "duration": 31,
    "start_time": "2024-11-03T13:15:47.208Z"
   },
   {
    "duration": 49,
    "start_time": "2024-11-03T13:19:14.858Z"
   },
   {
    "duration": 32,
    "start_time": "2024-11-03T13:19:23.039Z"
   },
   {
    "duration": 621,
    "start_time": "2024-11-03T13:20:20.830Z"
   },
   {
    "duration": 129,
    "start_time": "2024-11-03T13:21:34.057Z"
   },
   {
    "duration": 132,
    "start_time": "2024-11-03T13:22:00.114Z"
   },
   {
    "duration": 33,
    "start_time": "2024-11-03T13:22:25.892Z"
   },
   {
    "duration": 33,
    "start_time": "2024-11-03T13:28:19.856Z"
   },
   {
    "duration": 34,
    "start_time": "2024-11-03T13:29:14.832Z"
   },
   {
    "duration": 32,
    "start_time": "2024-11-03T13:29:42.249Z"
   },
   {
    "duration": 32,
    "start_time": "2024-11-03T13:30:41.441Z"
   },
   {
    "duration": 31,
    "start_time": "2024-11-03T13:33:18.671Z"
   },
   {
    "duration": 92,
    "start_time": "2024-11-03T13:34:18.593Z"
   },
   {
    "duration": 32,
    "start_time": "2024-11-03T13:34:44.518Z"
   },
   {
    "duration": 37,
    "start_time": "2024-11-03T13:35:45.552Z"
   },
   {
    "duration": 4,
    "start_time": "2024-11-03T13:37:49.685Z"
   },
   {
    "duration": 5,
    "start_time": "2024-11-03T13:38:11.245Z"
   },
   {
    "duration": 33,
    "start_time": "2024-11-03T13:39:01.486Z"
   },
   {
    "duration": 34,
    "start_time": "2024-11-03T13:39:39.486Z"
   },
   {
    "duration": 33,
    "start_time": "2024-11-03T13:39:51.282Z"
   },
   {
    "duration": 34,
    "start_time": "2024-11-03T13:40:07.473Z"
   },
   {
    "duration": 32,
    "start_time": "2024-11-03T13:41:03.295Z"
   },
   {
    "duration": 50,
    "start_time": "2024-11-03T13:44:22.968Z"
   },
   {
    "duration": 32,
    "start_time": "2024-11-03T13:45:11.498Z"
   },
   {
    "duration": 33,
    "start_time": "2024-11-03T13:47:45.029Z"
   },
   {
    "duration": 34,
    "start_time": "2024-11-03T13:48:40.420Z"
   },
   {
    "duration": 32,
    "start_time": "2024-11-03T13:51:09.947Z"
   },
   {
    "duration": 56,
    "start_time": "2024-11-03T13:54:29.235Z"
   },
   {
    "duration": 37,
    "start_time": "2024-11-03T13:56:35.269Z"
   },
   {
    "duration": 43,
    "start_time": "2024-11-03T13:57:11.839Z"
   },
   {
    "duration": 42,
    "start_time": "2024-11-03T13:58:03.969Z"
   },
   {
    "duration": 51,
    "start_time": "2024-11-03T13:58:18.410Z"
   },
   {
    "duration": 45,
    "start_time": "2024-11-03T14:07:55.320Z"
   },
   {
    "duration": 132,
    "start_time": "2024-11-03T14:08:44.698Z"
   },
   {
    "duration": 35,
    "start_time": "2024-11-03T14:08:49.953Z"
   },
   {
    "duration": 148,
    "start_time": "2024-11-03T14:11:00.983Z"
   },
   {
    "duration": 140,
    "start_time": "2024-11-03T14:12:00.109Z"
   },
   {
    "duration": 133,
    "start_time": "2024-11-03T14:12:31.639Z"
   },
   {
    "duration": 42,
    "start_time": "2024-11-03T14:15:32.924Z"
   },
   {
    "duration": 138,
    "start_time": "2024-11-03T14:17:15.182Z"
   },
   {
    "duration": 137,
    "start_time": "2024-11-03T14:17:20.108Z"
   },
   {
    "duration": 36,
    "start_time": "2024-11-03T14:19:44.622Z"
   },
   {
    "duration": 343,
    "start_time": "2024-11-03T17:56:13.399Z"
   },
   {
    "duration": 3,
    "start_time": "2024-11-03T17:56:13.745Z"
   },
   {
    "duration": 55,
    "start_time": "2024-11-03T17:56:13.750Z"
   },
   {
    "duration": 21,
    "start_time": "2024-11-03T17:56:13.807Z"
   },
   {
    "duration": 31,
    "start_time": "2024-11-03T17:56:13.831Z"
   },
   {
    "duration": 23,
    "start_time": "2024-11-03T17:56:13.864Z"
   },
   {
    "duration": 23,
    "start_time": "2024-11-03T17:56:13.888Z"
   },
   {
    "duration": 25,
    "start_time": "2024-11-03T17:56:13.912Z"
   },
   {
    "duration": 23,
    "start_time": "2024-11-03T17:56:13.939Z"
   },
   {
    "duration": 23,
    "start_time": "2024-11-03T17:56:13.964Z"
   },
   {
    "duration": 46,
    "start_time": "2024-11-03T17:56:13.988Z"
   },
   {
    "duration": 24,
    "start_time": "2024-11-03T17:56:14.036Z"
   },
   {
    "duration": 22,
    "start_time": "2024-11-03T17:56:14.062Z"
   },
   {
    "duration": 25,
    "start_time": "2024-11-03T17:56:14.088Z"
   },
   {
    "duration": 27,
    "start_time": "2024-11-03T17:56:14.115Z"
   },
   {
    "duration": 25,
    "start_time": "2024-11-03T17:56:14.144Z"
   },
   {
    "duration": 28,
    "start_time": "2024-11-03T17:56:14.171Z"
   },
   {
    "duration": 29,
    "start_time": "2024-11-03T17:56:14.200Z"
   },
   {
    "duration": 21,
    "start_time": "2024-11-03T17:56:14.230Z"
   },
   {
    "duration": 21,
    "start_time": "2024-11-03T17:56:14.253Z"
   },
   {
    "duration": 24,
    "start_time": "2024-11-03T17:56:14.276Z"
   },
   {
    "duration": 24,
    "start_time": "2024-11-03T17:56:14.301Z"
   },
   {
    "duration": 33,
    "start_time": "2024-11-03T17:56:14.327Z"
   },
   {
    "duration": 45,
    "start_time": "2024-11-03T17:56:14.361Z"
   },
   {
    "duration": 28,
    "start_time": "2024-11-03T17:56:14.409Z"
   },
   {
    "duration": 34,
    "start_time": "2024-11-03T17:56:14.439Z"
   },
   {
    "duration": 609,
    "start_time": "2024-11-03T17:56:14.475Z"
   },
   {
    "duration": 0,
    "start_time": "2024-11-03T17:56:15.086Z"
   },
   {
    "duration": 46,
    "start_time": "2024-11-03T18:02:36.768Z"
   },
   {
    "duration": 127,
    "start_time": "2024-11-03T18:03:48.211Z"
   },
   {
    "duration": 172,
    "start_time": "2024-11-03T18:04:03.461Z"
   },
   {
    "duration": 125,
    "start_time": "2024-11-03T18:04:25.308Z"
   },
   {
    "duration": 132,
    "start_time": "2024-11-03T18:05:18.840Z"
   },
   {
    "duration": 136,
    "start_time": "2024-11-03T18:05:29.270Z"
   },
   {
    "duration": 124,
    "start_time": "2024-11-03T18:05:58.498Z"
   },
   {
    "duration": 49,
    "start_time": "2024-11-03T18:06:29.952Z"
   },
   {
    "duration": 128,
    "start_time": "2024-11-03T18:07:31.918Z"
   },
   {
    "duration": 123,
    "start_time": "2024-11-03T18:07:38.935Z"
   },
   {
    "duration": 129,
    "start_time": "2024-11-03T18:08:55.027Z"
   },
   {
    "duration": 126,
    "start_time": "2024-11-03T18:09:07.186Z"
   },
   {
    "duration": 126,
    "start_time": "2024-11-03T18:09:50.194Z"
   },
   {
    "duration": 47,
    "start_time": "2024-11-03T18:10:05.162Z"
   },
   {
    "duration": 54,
    "start_time": "2024-11-03T18:10:14.689Z"
   },
   {
    "duration": 48,
    "start_time": "2024-11-03T18:11:05.992Z"
   },
   {
    "duration": 46,
    "start_time": "2024-11-03T18:11:42.833Z"
   },
   {
    "duration": 41,
    "start_time": "2024-11-03T18:20:42.634Z"
   },
   {
    "duration": 43,
    "start_time": "2024-11-03T18:22:41.936Z"
   },
   {
    "duration": 50,
    "start_time": "2024-11-03T18:57:37.074Z"
   },
   {
    "duration": 49,
    "start_time": "2024-11-03T18:57:43.385Z"
   },
   {
    "duration": 131,
    "start_time": "2024-11-03T18:58:12.031Z"
   },
   {
    "duration": 7,
    "start_time": "2024-11-03T18:59:10.434Z"
   },
   {
    "duration": 4,
    "start_time": "2024-11-03T18:59:27.928Z"
   },
   {
    "duration": 4,
    "start_time": "2024-11-03T19:01:08.674Z"
   },
   {
    "duration": 40,
    "start_time": "2024-11-03T19:02:27.861Z"
   },
   {
    "duration": 6,
    "start_time": "2024-11-03T19:02:38.678Z"
   },
   {
    "duration": 4,
    "start_time": "2024-11-03T19:03:42.570Z"
   },
   {
    "duration": 12,
    "start_time": "2024-11-03T19:22:45.262Z"
   },
   {
    "duration": 38,
    "start_time": "2024-11-03T19:22:48.981Z"
   },
   {
    "duration": 6,
    "start_time": "2024-11-03T19:22:49.469Z"
   },
   {
    "duration": 21,
    "start_time": "2024-11-03T19:23:50.525Z"
   },
   {
    "duration": 6,
    "start_time": "2024-11-03T19:23:51.509Z"
   },
   {
    "duration": 4,
    "start_time": "2024-11-03T19:26:06.448Z"
   },
   {
    "duration": 6,
    "start_time": "2024-11-03T19:28:40.870Z"
   },
   {
    "duration": 3,
    "start_time": "2024-11-03T19:28:51.688Z"
   },
   {
    "duration": 5,
    "start_time": "2024-11-03T19:31:58.509Z"
   },
   {
    "duration": 6,
    "start_time": "2024-11-03T19:33:46.068Z"
   },
   {
    "duration": 14,
    "start_time": "2024-11-03T19:35:53.301Z"
   },
   {
    "duration": 32,
    "start_time": "2024-11-03T19:37:29.329Z"
   },
   {
    "duration": 35,
    "start_time": "2024-11-03T19:37:40.934Z"
   },
   {
    "duration": 26,
    "start_time": "2024-11-03T19:39:24.420Z"
   },
   {
    "duration": 27,
    "start_time": "2024-11-03T19:40:20.941Z"
   },
   {
    "duration": 26,
    "start_time": "2024-11-03T19:40:29.282Z"
   },
   {
    "duration": 27,
    "start_time": "2024-11-03T19:40:33.787Z"
   },
   {
    "duration": 5,
    "start_time": "2024-11-03T19:45:23.953Z"
   },
   {
    "duration": 5,
    "start_time": "2024-11-03T19:45:54.906Z"
   },
   {
    "duration": 14,
    "start_time": "2024-11-03T19:49:29.325Z"
   },
   {
    "duration": 8,
    "start_time": "2024-11-03T19:49:43.726Z"
   },
   {
    "duration": 5,
    "start_time": "2024-11-03T19:50:08.693Z"
   },
   {
    "duration": 7,
    "start_time": "2024-11-03T19:51:02.537Z"
   },
   {
    "duration": 10,
    "start_time": "2024-11-03T19:51:19.088Z"
   },
   {
    "duration": 5,
    "start_time": "2024-11-03T19:51:42.549Z"
   },
   {
    "duration": 6,
    "start_time": "2024-11-03T20:00:19.949Z"
   },
   {
    "duration": 7,
    "start_time": "2024-11-03T20:00:38.228Z"
   },
   {
    "duration": 36,
    "start_time": "2024-11-03T20:01:31.002Z"
   },
   {
    "duration": 28,
    "start_time": "2024-11-03T20:01:56.920Z"
   },
   {
    "duration": 57,
    "start_time": "2024-11-03T20:08:12.788Z"
   },
   {
    "duration": 33,
    "start_time": "2024-11-03T20:08:59.306Z"
   },
   {
    "duration": 29,
    "start_time": "2024-11-03T20:09:51.309Z"
   },
   {
    "duration": 27,
    "start_time": "2024-11-03T20:10:07.450Z"
   },
   {
    "duration": 35,
    "start_time": "2024-11-03T20:14:06.308Z"
   },
   {
    "duration": 35,
    "start_time": "2024-11-03T20:14:19.420Z"
   },
   {
    "duration": 29,
    "start_time": "2024-11-03T20:15:20.000Z"
   },
   {
    "duration": 33,
    "start_time": "2024-11-03T20:16:16.130Z"
   },
   {
    "duration": 5,
    "start_time": "2024-11-03T20:17:30.903Z"
   },
   {
    "duration": 18,
    "start_time": "2024-11-03T20:17:35.618Z"
   },
   {
    "duration": 5,
    "start_time": "2024-11-03T20:18:06.469Z"
   },
   {
    "duration": 6,
    "start_time": "2024-11-03T20:19:14.838Z"
   },
   {
    "duration": 6,
    "start_time": "2024-11-03T20:19:35.706Z"
   },
   {
    "duration": 6,
    "start_time": "2024-11-03T20:19:57.831Z"
   },
   {
    "duration": 8,
    "start_time": "2024-11-03T20:22:25.456Z"
   },
   {
    "duration": 5,
    "start_time": "2024-11-03T20:22:46.135Z"
   },
   {
    "duration": 7,
    "start_time": "2024-11-03T20:22:54.444Z"
   },
   {
    "duration": 7,
    "start_time": "2024-11-03T20:45:41.984Z"
   },
   {
    "duration": 8,
    "start_time": "2024-11-03T20:46:04.810Z"
   },
   {
    "duration": 31,
    "start_time": "2024-11-03T20:46:42.215Z"
   },
   {
    "duration": 39,
    "start_time": "2024-11-03T20:51:52.386Z"
   },
   {
    "duration": 125,
    "start_time": "2024-11-03T20:54:28.218Z"
   },
   {
    "duration": 37,
    "start_time": "2024-11-03T20:54:43.795Z"
   },
   {
    "duration": 9,
    "start_time": "2024-11-03T20:57:14.629Z"
   },
   {
    "duration": 7,
    "start_time": "2024-11-03T20:57:36.705Z"
   },
   {
    "duration": 8,
    "start_time": "2024-11-03T20:57:47.140Z"
   },
   {
    "duration": 6,
    "start_time": "2024-11-03T20:58:51.377Z"
   },
   {
    "duration": 7,
    "start_time": "2024-11-03T20:59:12.119Z"
   },
   {
    "duration": 46,
    "start_time": "2024-11-03T21:00:40.139Z"
   },
   {
    "duration": 127,
    "start_time": "2024-11-03T21:00:50.689Z"
   },
   {
    "duration": 28,
    "start_time": "2024-11-03T21:00:54.906Z"
   },
   {
    "duration": 33,
    "start_time": "2024-11-03T21:01:05.988Z"
   },
   {
    "duration": 29,
    "start_time": "2024-11-03T21:02:41.924Z"
   },
   {
    "duration": 126,
    "start_time": "2024-11-03T21:16:07.912Z"
   },
   {
    "duration": 37,
    "start_time": "2024-11-03T21:16:25.567Z"
   },
   {
    "duration": 126,
    "start_time": "2024-11-03T21:17:27.661Z"
   },
   {
    "duration": 123,
    "start_time": "2024-11-03T21:17:48.729Z"
   },
   {
    "duration": 179,
    "start_time": "2024-11-03T21:19:40.775Z"
   },
   {
    "duration": 31,
    "start_time": "2024-11-03T21:20:15.900Z"
   },
   {
    "duration": 123,
    "start_time": "2024-11-03T21:22:49.963Z"
   },
   {
    "duration": 123,
    "start_time": "2024-11-03T21:23:05.309Z"
   },
   {
    "duration": 50,
    "start_time": "2024-11-03T21:23:55.920Z"
   },
   {
    "duration": 63,
    "start_time": "2024-11-03T21:35:21.648Z"
   },
   {
    "duration": 145,
    "start_time": "2024-11-03T21:36:09.639Z"
   },
   {
    "duration": 123,
    "start_time": "2024-11-03T21:36:39.015Z"
   },
   {
    "duration": 135,
    "start_time": "2024-11-03T21:36:58.649Z"
   },
   {
    "duration": 64,
    "start_time": "2024-11-03T21:37:08.937Z"
   },
   {
    "duration": 127,
    "start_time": "2024-11-03T21:38:27.581Z"
   },
   {
    "duration": 64,
    "start_time": "2024-11-03T21:38:43.512Z"
   },
   {
    "duration": 31,
    "start_time": "2024-11-03T21:39:37.505Z"
   },
   {
    "duration": 63,
    "start_time": "2024-11-03T21:39:51.723Z"
   },
   {
    "duration": 154,
    "start_time": "2024-11-03T21:43:24.279Z"
   },
   {
    "duration": 213,
    "start_time": "2024-11-03T21:43:38.730Z"
   },
   {
    "duration": 66,
    "start_time": "2024-11-03T21:44:00.761Z"
   },
   {
    "duration": 137,
    "start_time": "2024-11-03T21:58:13.137Z"
   },
   {
    "duration": 68,
    "start_time": "2024-11-03T21:58:26.160Z"
   },
   {
    "duration": 166,
    "start_time": "2024-11-03T22:00:29.263Z"
   },
   {
    "duration": 122,
    "start_time": "2024-11-03T22:01:09.644Z"
   },
   {
    "duration": 123,
    "start_time": "2024-11-03T22:01:22.191Z"
   },
   {
    "duration": 124,
    "start_time": "2024-11-03T22:01:45.671Z"
   },
   {
    "duration": 127,
    "start_time": "2024-11-03T22:01:49.817Z"
   },
   {
    "duration": 127,
    "start_time": "2024-11-03T22:02:29.922Z"
   },
   {
    "duration": 123,
    "start_time": "2024-11-03T22:02:40.103Z"
   },
   {
    "duration": 121,
    "start_time": "2024-11-03T22:02:52.299Z"
   },
   {
    "duration": 36,
    "start_time": "2024-11-03T22:03:02.002Z"
   },
   {
    "duration": 26,
    "start_time": "2024-11-03T22:03:23.327Z"
   },
   {
    "duration": 124,
    "start_time": "2024-11-03T22:03:43.726Z"
   },
   {
    "duration": 132,
    "start_time": "2024-11-03T22:03:49.340Z"
   },
   {
    "duration": 139,
    "start_time": "2024-11-03T22:04:08.243Z"
   },
   {
    "duration": 141,
    "start_time": "2024-11-03T22:04:34.533Z"
   },
   {
    "duration": 121,
    "start_time": "2024-11-03T22:04:57.500Z"
   },
   {
    "duration": 125,
    "start_time": "2024-11-03T22:05:25.401Z"
   },
   {
    "duration": 31,
    "start_time": "2024-11-03T22:05:31.906Z"
   },
   {
    "duration": 122,
    "start_time": "2024-11-03T22:06:08.544Z"
   },
   {
    "duration": 120,
    "start_time": "2024-11-03T22:06:42.405Z"
   },
   {
    "duration": 132,
    "start_time": "2024-11-03T22:07:25.942Z"
   },
   {
    "duration": 114,
    "start_time": "2024-11-03T22:07:40.525Z"
   },
   {
    "duration": 30,
    "start_time": "2024-11-03T22:07:57.407Z"
   },
   {
    "duration": 25,
    "start_time": "2024-11-03T22:08:25.416Z"
   },
   {
    "duration": 25,
    "start_time": "2024-11-03T22:08:56.655Z"
   },
   {
    "duration": 28,
    "start_time": "2024-11-03T22:09:35.750Z"
   },
   {
    "duration": 29,
    "start_time": "2024-11-03T22:10:49.815Z"
   },
   {
    "duration": 70,
    "start_time": "2024-11-03T22:11:28.903Z"
   },
   {
    "duration": 66,
    "start_time": "2024-11-03T22:12:36.257Z"
   },
   {
    "duration": 63,
    "start_time": "2024-11-03T22:13:03.217Z"
   },
   {
    "duration": 63,
    "start_time": "2024-11-03T22:13:13.190Z"
   },
   {
    "duration": 67,
    "start_time": "2024-11-03T22:13:50.988Z"
   },
   {
    "duration": 65,
    "start_time": "2024-11-03T22:14:08.449Z"
   },
   {
    "duration": 124,
    "start_time": "2024-11-03T22:17:14.031Z"
   },
   {
    "duration": 127,
    "start_time": "2024-11-03T22:18:06.864Z"
   },
   {
    "duration": 137,
    "start_time": "2024-11-03T22:18:22.865Z"
   },
   {
    "duration": 122,
    "start_time": "2024-11-03T22:18:40.055Z"
   },
   {
    "duration": 128,
    "start_time": "2024-11-03T22:19:21.260Z"
   },
   {
    "duration": 34,
    "start_time": "2024-11-03T22:19:27.558Z"
   },
   {
    "duration": 123,
    "start_time": "2024-11-03T22:19:59.368Z"
   },
   {
    "duration": 125,
    "start_time": "2024-11-03T22:20:20.850Z"
   },
   {
    "duration": 30,
    "start_time": "2024-11-03T22:20:26.261Z"
   },
   {
    "duration": 27,
    "start_time": "2024-11-03T22:22:10.695Z"
   },
   {
    "duration": 30,
    "start_time": "2024-11-03T22:23:52.727Z"
   },
   {
    "duration": 32,
    "start_time": "2024-11-03T22:24:04.528Z"
   },
   {
    "duration": 39,
    "start_time": "2024-11-03T22:42:06.320Z"
   },
   {
    "duration": 31,
    "start_time": "2024-11-03T22:42:43.186Z"
   },
   {
    "duration": 125,
    "start_time": "2024-11-03T22:51:37.207Z"
   },
   {
    "duration": 124,
    "start_time": "2024-11-03T22:51:59.735Z"
   },
   {
    "duration": 194,
    "start_time": "2024-11-03T22:52:05.236Z"
   },
   {
    "duration": 122,
    "start_time": "2024-11-03T22:52:38.226Z"
   },
   {
    "duration": 127,
    "start_time": "2024-11-03T22:53:15.164Z"
   },
   {
    "duration": 121,
    "start_time": "2024-11-03T22:54:08.652Z"
   },
   {
    "duration": 121,
    "start_time": "2024-11-03T22:54:51.915Z"
   },
   {
    "duration": 125,
    "start_time": "2024-11-03T22:55:26.377Z"
   },
   {
    "duration": 139,
    "start_time": "2024-11-03T22:55:37.176Z"
   },
   {
    "duration": 125,
    "start_time": "2024-11-03T22:56:46.528Z"
   },
   {
    "duration": 125,
    "start_time": "2024-11-03T22:57:32.576Z"
   },
   {
    "duration": 28,
    "start_time": "2024-11-03T22:57:46.745Z"
   },
   {
    "duration": 123,
    "start_time": "2024-11-03T22:58:11.822Z"
   },
   {
    "duration": 30,
    "start_time": "2024-11-03T22:58:15.880Z"
   },
   {
    "duration": 64,
    "start_time": "2024-11-03T23:00:20.746Z"
   },
   {
    "duration": 131,
    "start_time": "2024-11-03T23:01:33.607Z"
   },
   {
    "duration": 64,
    "start_time": "2024-11-03T23:01:41.839Z"
   },
   {
    "duration": 71,
    "start_time": "2024-11-03T23:01:54.929Z"
   },
   {
    "duration": 27,
    "start_time": "2024-11-03T23:03:08.483Z"
   },
   {
    "duration": 28,
    "start_time": "2024-11-03T23:03:25.793Z"
   },
   {
    "duration": 30,
    "start_time": "2024-11-03T23:04:03.335Z"
   },
   {
    "duration": 28,
    "start_time": "2024-11-03T23:04:53.994Z"
   },
   {
    "duration": 207,
    "start_time": "2024-11-03T23:05:52.391Z"
   },
   {
    "duration": 70,
    "start_time": "2024-11-03T23:06:14.395Z"
   },
   {
    "duration": 123,
    "start_time": "2024-11-03T23:13:12.208Z"
   },
   {
    "duration": 121,
    "start_time": "2024-11-03T23:13:58.574Z"
   },
   {
    "duration": 120,
    "start_time": "2024-11-03T23:15:03.113Z"
   },
   {
    "duration": 31,
    "start_time": "2024-11-03T23:17:52.606Z"
   },
   {
    "duration": 129,
    "start_time": "2024-11-03T23:19:00.058Z"
   },
   {
    "duration": 140,
    "start_time": "2024-11-03T23:19:30.859Z"
   },
   {
    "duration": 30,
    "start_time": "2024-11-03T23:19:43.717Z"
   },
   {
    "duration": 380,
    "start_time": "2024-11-04T12:35:34.496Z"
   },
   {
    "duration": 23,
    "start_time": "2024-11-04T12:35:34.878Z"
   },
   {
    "duration": 4,
    "start_time": "2024-11-04T12:35:34.902Z"
   },
   {
    "duration": 45,
    "start_time": "2024-11-04T12:35:34.908Z"
   },
   {
    "duration": 36,
    "start_time": "2024-11-04T12:35:34.955Z"
   },
   {
    "duration": 30,
    "start_time": "2024-11-04T12:35:34.993Z"
   },
   {
    "duration": 31,
    "start_time": "2024-11-04T12:35:35.024Z"
   },
   {
    "duration": 36,
    "start_time": "2024-11-04T12:35:35.056Z"
   },
   {
    "duration": 31,
    "start_time": "2024-11-04T12:35:35.093Z"
   },
   {
    "duration": 32,
    "start_time": "2024-11-04T12:35:35.128Z"
   },
   {
    "duration": 31,
    "start_time": "2024-11-04T12:35:35.162Z"
   },
   {
    "duration": 33,
    "start_time": "2024-11-04T12:35:35.195Z"
   },
   {
    "duration": 55,
    "start_time": "2024-11-04T12:35:35.230Z"
   },
   {
    "duration": 32,
    "start_time": "2024-11-04T12:35:35.286Z"
   },
   {
    "duration": 36,
    "start_time": "2024-11-04T12:35:35.320Z"
   },
   {
    "duration": 29,
    "start_time": "2024-11-04T12:35:35.358Z"
   },
   {
    "duration": 31,
    "start_time": "2024-11-04T12:35:35.389Z"
   },
   {
    "duration": 28,
    "start_time": "2024-11-04T12:35:35.422Z"
   },
   {
    "duration": 35,
    "start_time": "2024-11-04T12:35:35.452Z"
   },
   {
    "duration": 32,
    "start_time": "2024-11-04T12:35:35.489Z"
   },
   {
    "duration": 33,
    "start_time": "2024-11-04T12:35:35.523Z"
   },
   {
    "duration": 31,
    "start_time": "2024-11-04T12:35:35.557Z"
   },
   {
    "duration": 31,
    "start_time": "2024-11-04T12:35:35.590Z"
   },
   {
    "duration": 31,
    "start_time": "2024-11-04T12:35:35.622Z"
   },
   {
    "duration": 44,
    "start_time": "2024-11-04T12:35:35.655Z"
   },
   {
    "duration": 47,
    "start_time": "2024-11-04T12:35:35.701Z"
   },
   {
    "duration": 41,
    "start_time": "2024-11-04T12:35:35.750Z"
   },
   {
    "duration": 6,
    "start_time": "2024-11-04T12:35:35.795Z"
   },
   {
    "duration": 9,
    "start_time": "2024-11-04T12:35:35.803Z"
   },
   {
    "duration": 9,
    "start_time": "2024-11-04T12:35:35.814Z"
   },
   {
    "duration": 6,
    "start_time": "2024-11-04T12:35:35.825Z"
   },
   {
    "duration": 34,
    "start_time": "2024-11-04T12:35:35.833Z"
   },
   {
    "duration": 32,
    "start_time": "2024-11-04T12:35:35.869Z"
   },
   {
    "duration": 33,
    "start_time": "2024-11-04T12:35:35.902Z"
   },
   {
    "duration": 635,
    "start_time": "2024-11-04T12:48:42.243Z"
   },
   {
    "duration": 134,
    "start_time": "2024-11-04T12:48:59.013Z"
   },
   {
    "duration": 178,
    "start_time": "2024-11-04T12:49:22.478Z"
   },
   {
    "duration": 41,
    "start_time": "2024-11-04T12:49:59.814Z"
   },
   {
    "duration": 41,
    "start_time": "2024-11-04T12:50:59.874Z"
   },
   {
    "duration": 36,
    "start_time": "2024-11-04T12:52:32.883Z"
   },
   {
    "duration": 41,
    "start_time": "2024-11-04T12:53:12.016Z"
   },
   {
    "duration": 35,
    "start_time": "2024-11-04T12:54:32.786Z"
   },
   {
    "duration": 34,
    "start_time": "2024-11-04T12:55:07.287Z"
   },
   {
    "duration": 38,
    "start_time": "2024-11-04T12:55:17.376Z"
   },
   {
    "duration": 33,
    "start_time": "2024-11-04T12:57:04.293Z"
   },
   {
    "duration": 39,
    "start_time": "2024-11-04T12:57:12.500Z"
   },
   {
    "duration": 44,
    "start_time": "2024-11-04T12:58:06.574Z"
   },
   {
    "duration": 39,
    "start_time": "2024-11-04T12:58:28.775Z"
   },
   {
    "duration": 134,
    "start_time": "2024-11-04T12:59:33.513Z"
   },
   {
    "duration": 43,
    "start_time": "2024-11-04T13:00:02.588Z"
   },
   {
    "duration": 36,
    "start_time": "2024-11-04T13:00:28.152Z"
   },
   {
    "duration": 32,
    "start_time": "2024-11-04T13:00:54.237Z"
   },
   {
    "duration": 35,
    "start_time": "2024-11-04T13:00:59.288Z"
   },
   {
    "duration": 43,
    "start_time": "2024-11-04T13:01:06.505Z"
   },
   {
    "duration": 35,
    "start_time": "2024-11-04T13:01:17.230Z"
   },
   {
    "duration": 38,
    "start_time": "2024-11-04T13:01:22.401Z"
   },
   {
    "duration": 34,
    "start_time": "2024-11-04T13:06:27.924Z"
   },
   {
    "duration": 138,
    "start_time": "2024-11-04T13:07:14.715Z"
   },
   {
    "duration": 138,
    "start_time": "2024-11-04T13:07:36.953Z"
   },
   {
    "duration": 37,
    "start_time": "2024-11-04T13:07:52.253Z"
   },
   {
    "duration": 133,
    "start_time": "2024-11-04T13:08:54.130Z"
   },
   {
    "duration": 34,
    "start_time": "2024-11-04T13:09:13.777Z"
   },
   {
    "duration": 40,
    "start_time": "2024-11-04T13:09:41.819Z"
   },
   {
    "duration": 45,
    "start_time": "2024-11-04T13:10:50.481Z"
   },
   {
    "duration": 39,
    "start_time": "2024-11-04T13:10:58.347Z"
   },
   {
    "duration": 38,
    "start_time": "2024-11-04T13:11:22.581Z"
   },
   {
    "duration": 38,
    "start_time": "2024-11-04T13:11:32.439Z"
   },
   {
    "duration": 39,
    "start_time": "2024-11-04T13:15:48.913Z"
   },
   {
    "duration": 48,
    "start_time": "2024-11-04T13:16:10.272Z"
   },
   {
    "duration": 130,
    "start_time": "2024-11-04T13:17:02.742Z"
   },
   {
    "duration": 132,
    "start_time": "2024-11-04T13:17:10.187Z"
   },
   {
    "duration": 39,
    "start_time": "2024-11-04T13:17:42.265Z"
   },
   {
    "duration": 168,
    "start_time": "2024-11-04T13:20:33.521Z"
   },
   {
    "duration": 133,
    "start_time": "2024-11-04T13:21:55.678Z"
   },
   {
    "duration": 43,
    "start_time": "2024-11-04T13:22:57.596Z"
   },
   {
    "duration": 144,
    "start_time": "2024-11-04T13:29:01.428Z"
   },
   {
    "duration": 130,
    "start_time": "2024-11-04T13:31:48.183Z"
   },
   {
    "duration": 136,
    "start_time": "2024-11-04T13:32:06.647Z"
   },
   {
    "duration": 142,
    "start_time": "2024-11-04T13:32:40.018Z"
   },
   {
    "duration": 28,
    "start_time": "2024-11-04T13:34:50.304Z"
   },
   {
    "duration": 130,
    "start_time": "2024-11-04T13:35:20.567Z"
   },
   {
    "duration": 129,
    "start_time": "2024-11-04T13:38:05.891Z"
   },
   {
    "duration": 37,
    "start_time": "2024-11-04T13:39:40.794Z"
   },
   {
    "duration": 143,
    "start_time": "2024-11-04T13:40:16.212Z"
   },
   {
    "duration": 38,
    "start_time": "2024-11-04T13:40:43.542Z"
   },
   {
    "duration": 131,
    "start_time": "2024-11-04T13:42:51.185Z"
   },
   {
    "duration": 129,
    "start_time": "2024-11-04T13:43:34.256Z"
   },
   {
    "duration": 39,
    "start_time": "2024-11-04T13:43:50.114Z"
   },
   {
    "duration": 132,
    "start_time": "2024-11-04T13:45:50.694Z"
   },
   {
    "duration": 47,
    "start_time": "2024-11-04T13:46:09.372Z"
   },
   {
    "duration": 46,
    "start_time": "2024-11-04T13:46:29.712Z"
   },
   {
    "duration": 36,
    "start_time": "2024-11-04T13:47:16.851Z"
   },
   {
    "duration": 39,
    "start_time": "2024-11-04T13:47:53.657Z"
   },
   {
    "duration": 44,
    "start_time": "2024-11-04T13:48:25.837Z"
   },
   {
    "duration": 40,
    "start_time": "2024-11-04T13:49:01.029Z"
   },
   {
    "duration": 44,
    "start_time": "2024-11-04T13:49:08.115Z"
   },
   {
    "duration": 4,
    "start_time": "2024-11-04T13:49:20.587Z"
   },
   {
    "duration": 43,
    "start_time": "2024-11-04T13:49:50.981Z"
   },
   {
    "duration": 48,
    "start_time": "2024-11-04T13:50:51.880Z"
   },
   {
    "duration": 115,
    "start_time": "2024-11-04T13:51:18.777Z"
   },
   {
    "duration": 34,
    "start_time": "2024-11-04T13:52:25.318Z"
   },
   {
    "duration": 146,
    "start_time": "2024-11-04T13:52:51.542Z"
   },
   {
    "duration": 34,
    "start_time": "2024-11-04T13:53:16.413Z"
   },
   {
    "duration": 38,
    "start_time": "2024-11-04T13:54:00.903Z"
   },
   {
    "duration": 131,
    "start_time": "2024-11-04T14:01:47.827Z"
   },
   {
    "duration": 40,
    "start_time": "2024-11-04T14:04:27.584Z"
   },
   {
    "duration": 139,
    "start_time": "2024-11-04T14:08:20.038Z"
   },
   {
    "duration": 139,
    "start_time": "2024-11-04T14:08:56.105Z"
   },
   {
    "duration": 40,
    "start_time": "2024-11-04T14:09:08.844Z"
   },
   {
    "duration": 37,
    "start_time": "2024-11-04T14:21:10.822Z"
   },
   {
    "duration": 134,
    "start_time": "2024-11-04T21:01:37.800Z"
   },
   {
    "duration": 133,
    "start_time": "2024-11-04T21:02:13.899Z"
   },
   {
    "duration": 42,
    "start_time": "2024-11-04T21:03:35.252Z"
   },
   {
    "duration": 129,
    "start_time": "2024-11-04T21:03:48.918Z"
   },
   {
    "duration": 132,
    "start_time": "2024-11-04T21:05:43.496Z"
   },
   {
    "duration": 140,
    "start_time": "2024-11-04T21:06:12.207Z"
   }
  ],
  "kernelspec": {
   "display_name": "Python 3 (ipykernel)",
   "language": "python",
   "name": "python3"
  },
  "language_info": {
   "codemirror_mode": {
    "name": "ipython",
    "version": 3
   },
   "file_extension": ".py",
   "mimetype": "text/x-python",
   "name": "python",
   "nbconvert_exporter": "python",
   "pygments_lexer": "ipython3",
   "version": "3.9.19"
  },
  "toc": {
   "base_numbering": 1,
   "nav_menu": {},
   "number_sections": true,
   "sideBar": true,
   "skip_h1_title": true,
   "title_cell": "Table of Contents",
   "title_sidebar": "Contents",
   "toc_cell": false,
   "toc_position": {},
   "toc_section_display": true,
   "toc_window_display": false
  }
 },
 "nbformat": 4,
 "nbformat_minor": 2
}
